{
 "cells": [
  {
   "cell_type": "markdown",
   "metadata": {},
   "source": [
    "# Predicting AirBnB Review Scores: First Model\n",
    "\n",
    "Names:\n",
    "- Artur Rodrigues, arodrigues (at) ucsd (dot) edu \n",
    "- Doanh Nguyen, don012 (at) ucsd (dot) edu \n",
    "- Ryan Batubara, rbatubara (at) ucsd (dot) edu"
   ]
  },
  {
   "cell_type": "markdown",
   "metadata": {},
   "source": [
    "## Environment Setup and Package Imports\n",
    "\n",
    "All packages used in this project are available on Google Colab. The main packages used are:\n",
    "- matplotlib\n",
    "- pandas\n",
    "- regex\n",
    "- sklearn\n",
    "- numpy\n",
    "- seaborn\n",
    "- plotly\n",
    "- collections\n",
    "- itertools\n",
    "- ast\n",
    "\n",
    "The data is taken from [Inside AirBnB](https://insideairbnb.com/get-the-data/), but we have combined them into one csv compressed as a 7z file [here](https://drive.google.com/file/d/1DwNaHBBgTesytLoGn23QZMURfK41Du2K/view?usp=sharing) (requires a UCSD account to access, see why below). The data dictionary for this can be found at [Inside AirBnB data dictionary](https://docs.google.com/spreadsheets/d/1iWCNJcSutYqpULSQHlNyGInUvHg2BoUGoNRIGa6Szc4/edit?gid=1322284596#gid=1322284596). It is too large to copy here."
   ]
  },
  {
   "cell_type": "code",
   "execution_count": 1,
   "metadata": {},
   "outputs": [],
   "source": [
    "# Main data libraries\n",
    "import pandas as pd\n",
    "import numpy as np\n",
    "\n",
    "# Plotting and dislpay imports\n",
    "import seaborn as sns\n",
    "import plotly.express as px\n",
    "import matplotlib.pyplot as plt\n",
    "import plotly.graph_objs as go\n",
    "from IPython.display import display, Markdown\n",
    "\n",
    "# Data processing imports\n",
    "import regex as re\n",
    "import ast\n",
    "from itertools import chain\n",
    "from collections import Counter"
   ]
  },
  {
   "cell_type": "code",
   "execution_count": 2,
   "metadata": {},
   "outputs": [],
   "source": [
    "# sklearn imports\n",
    "from sklearn.linear_model import LinearRegression\n",
    "from sklearn.compose import make_column_transformer\n",
    "from sklearn.pipeline import make_pipeline\n",
    "from sklearn.preprocessing import StandardScaler, OneHotEncoder, Normalizer\n",
    "from sklearn.model_selection import train_test_split\n",
    "from sklearn.impute import SimpleImputer\n",
    "from sklearn.metrics import mean_absolute_error, mean_squared_error"
   ]
  },
  {
   "cell_type": "markdown",
   "metadata": {},
   "source": [
    "### Table of Contents\n",
    "\n",
    "To summarize, we plan to predict the review scores of a given AirBnB listing given a large number of input features. In this notebook, we do some feature engineering to train a basic regression model to act as a baseline for a better, second model.\n",
    "\n",
    "This first model notebook will be split into three parts:\n",
    "\n",
    "- [Data Preprocessing](#data-preprocessing), where we import and process the data.\n",
    "- [Feature Engineering](#feature-engineering), where we will do feature engineering particularly from categorical columns.\n",
    "- [Regression Model](#regression-model), where we will train and evaluate a simple model as a baseline for our second model.\n",
    "\n",
    "Let's get started."
   ]
  },
  {
   "cell_type": "markdown",
   "metadata": {},
   "source": [
    "## Data Preprocessing"
   ]
  },
  {
   "cell_type": "code",
   "execution_count": 3,
   "metadata": {},
   "outputs": [
    {
     "data": {
      "text/markdown": [
       "|    |      id | listing_url                          |      scrape_id | last_scraped   | source      | name                       | description                                                                                                                                                            |   neighborhood_overview | picture_url                                                     |   host_id | host_url                                  | host_name   | host_since   | host_location   | host_about                               | host_response_time   | host_response_rate   | host_acceptance_rate   | host_is_superhost   | host_thumbnail_url                                                                                    | host_picture_url                                                                                         |   host_neighbourhood |   host_listings_count |   host_total_listings_count | host_verifications   | host_has_profile_pic   | host_identity_verified   |   neighbourhood | neighbourhood_cleansed   |   neighbourhood_group_cleansed |   latitude |   longitude | property_type      | room_type       |   accommodates |   bathrooms | bathrooms_text   |   bedrooms |   beds | amenities                                                                                                                          | price   |   minimum_nights |   maximum_nights |   minimum_minimum_nights |   maximum_minimum_nights |   minimum_maximum_nights |   maximum_maximum_nights |   minimum_nights_avg_ntm |   maximum_nights_avg_ntm |   calendar_updated | has_availability   |   availability_30 |   availability_60 |   availability_90 |   availability_365 | calendar_last_scraped   |   number_of_reviews |   number_of_reviews_ltm |   number_of_reviews_l30d | first_review   | last_review   |   review_scores_rating |   review_scores_accuracy |   review_scores_cleanliness |   review_scores_checkin |   review_scores_communication |   review_scores_location |   review_scores_value |   license | instant_bookable   |   calculated_host_listings_count |   calculated_host_listings_count_entire_homes |   calculated_host_listings_count_private_rooms |   calculated_host_listings_count_shared_rooms |   reviews_per_month |\n",
       "|---:|--------:|:-------------------------------------|---------------:|:---------------|:------------|:---------------------------|:-----------------------------------------------------------------------------------------------------------------------------------------------------------------------|------------------------:|:----------------------------------------------------------------|----------:|:------------------------------------------|:------------|:-------------|:----------------|:-----------------------------------------|:---------------------|:---------------------|:-----------------------|:--------------------|:------------------------------------------------------------------------------------------------------|:---------------------------------------------------------------------------------------------------------|---------------------:|----------------------:|----------------------------:|:---------------------|:-----------------------|:-------------------------|----------------:|:-------------------------|-------------------------------:|-----------:|------------:|:-------------------|:----------------|---------------:|------------:|:-----------------|-----------:|-------:|:-----------------------------------------------------------------------------------------------------------------------------------|:--------|-----------------:|-----------------:|-------------------------:|-------------------------:|-------------------------:|-------------------------:|-------------------------:|-------------------------:|-------------------:|:-------------------|------------------:|------------------:|------------------:|-------------------:|:------------------------|--------------------:|------------------------:|-------------------------:|:---------------|:--------------|-----------------------:|-------------------------:|----------------------------:|------------------------:|------------------------------:|-------------------------:|----------------------:|----------:|:-------------------|---------------------------------:|----------------------------------------------:|-----------------------------------------------:|----------------------------------------------:|--------------------:|\n",
       "|  0 | 2992450 | https://www.airbnb.com/rooms/2992450 | 20240607164239 | 2024-06-07     | city scrape | Luxury 2 bedroom apartment | The apartment is located in a quiet neighborhood . Fully furnished. Linens and towels are provided. It's two blocks away from downtown Albany, and the Palace theater. |                     nan | https://a0.muscache.com/pictures/44627226/0e72c75c_original.jpg |   4621559 | https://www.airbnb.com/users/show/4621559 | Kenneth     | 2013-01-07   | New York, NY    | I am a real down to earth & cool person. | within a few hours   | 100%                 | 100%                   | f                   | https://a0.muscache.com/im/users/4621559/profile_pic/1363081467/original.jpg?aki_policy=profile_small | https://a0.muscache.com/im/users/4621559/profile_pic/1363081467/original.jpg?aki_policy=profile_x_medium |                  nan |                     1 |                           5 | ['email', 'phone']   | t                      | f                        |             nan | THIRD WARD               |                            nan |    42.6579 |    -73.7537 | Entire rental unit | Entire home/apt |              4 |           1 | 1 bath           |          2 |      2 | [\"Essentials\", \"Air conditioning\", \"Wifi\", \"Kitchen\", \"TV with standard cable\", \"Smoke alarm\", \"Carbon monoxide alarm\", \"Heating\"] | $70.00  |               28 |             1125 |                       28 |                       28 |                     1125 |                     1125 |                       28 |                     1125 |                nan | t                  |                 0 |                 0 |                 0 |                 68 | 2024-06-07              |                   9 |                       0 |                        0 | 2014-07-01     | 2022-08-17    |                   3.56 |                     3.44 |                        3.56 |                    4.22 |                          4.56 |                     3.22 |                  3.67 |       nan | f                  |                                1 |                                             1 |                                              0 |                                             0 |                0.07 |"
      ],
      "text/plain": [
       "<IPython.core.display.Markdown object>"
      ]
     },
     "execution_count": 3,
     "metadata": {},
     "output_type": "execute_result"
    }
   ],
   "source": [
    "df_large = pd.read_csv(\"combined_output.csv\", low_memory=False)\n",
    "Markdown(df_large.head(1).to_markdown()) # Display as Markdown to force all columns to appear"
   ]
  },
  {
   "cell_type": "markdown",
   "metadata": {},
   "source": [
    "### Dropping Unecessary Columns\n",
    "\n",
    "Some columns in the original data are unecessary for our purposes. For a detailed description of each column, see the [Inside AirBnB Data Dictionary](https://docs.google.com/spreadsheets/d/1iWCNJcSutYqpULSQHlNyGInUvHg2BoUGoNRIGa6Szc4/edit?gid=1322284596#gid=1322284596).\n",
    "\n",
    "We list reasons for dropping these columns:\n",
    "- `All URL`: Unique elements for each listing. Does not contribute anything when predicting the review score.\n",
    "\n",
    "- `All ID`: Unique elements for each listing. Does not contribute anything when predicting the review score.\n",
    "\n",
    "- `host_name`: Indiviudally unique elements for each listing. Does not contribute anything when predicting the review score.\n",
    "\n",
    "- `license`: Unique elements for each listing. Does not contribute anything when predicting the review score.\n",
    "\n",
    "- `source`: Holds whether or not the listing was found via searching by city or if the listing was seen in a previous scrape. There is no logical\n",
    "connection between this and the target variable, which is review score.\n",
    "\n",
    "- `host_location`: Private information.\n",
    "\n",
    "- `host_total_listings_count`: There exists another feature called `host_listings_count`, this is a duplicate feature.\n",
    "\n",
    "- `calendar_last_scarped`: Holds the date of the last time the data was scrapped, no logical connection between this and predicting `review_score_rating`.\n",
    "\n",
    "- `first & last review`: provides temporal data for the first & last review date. Last review date can be misleading as an unpopular listing may have no reviews for an extended amount of time, and suddenly get a review.\n",
    "\n",
    "- `minimum_minimum_nights, maximum_minimum_nights, minimum_maximum_nights, maximum_maximum_nights`: The all time minimum and maximum of a listing's minimum and maximum nights requirement for booking. This has no correlation to review score because you cannot write a review if you have not stayed at the listing. A person who wants to book a listing for 10 days is not going to book a listing that has a maximum night stay of 9 days."
   ]
  },
  {
   "cell_type": "code",
   "execution_count": 4,
   "metadata": {},
   "outputs": [],
   "source": [
    "df_dropped = df_large.drop(columns=[\n",
    "    'listing_url', \n",
    "    'host_listings_count',\n",
    "    'scrape_id', \n",
    "    'picture_url', \n",
    "    'host_id', \n",
    "    'host_url', \n",
    "    'host_name', \n",
    "    'host_thumbnail_url',\n",
    "    'host_picture_url', \n",
    "    'minimum_minimum_nights',\n",
    "    'maximum_minimum_nights', \n",
    "    'minimum_maximum_nights',\n",
    "    'maximum_maximum_nights', \n",
    "    'calendar_updated',\n",
    "    'license',\n",
    "    'calendar_last_scraped',\n",
    "    'id',\n",
    "    'source',\n",
    "    'host_location',\n",
    "    'host_total_listings_count',\n",
    "    'first_review',\n",
    "    'last_review'\n",
    "])"
   ]
  },
  {
   "cell_type": "markdown",
   "metadata": {},
   "source": [
    "### Dropping 0 Review Listings\n",
    "\n",
    "Since we are trying to predict AirBnB review scores (for the purpose of finding out what makes a good review score), we will be dropping all listings that have 0 reviews. This is because, from the perspective of our model, these rows do not provide any meaningful information into what makes a highly rated listing (since their review scores are `NaN`, and are missing by design).\n",
    "\n",
    "We remark that this still leaves us with almost 200 thousand rows, so the data remains large enough for a model."
   ]
  },
  {
   "cell_type": "code",
   "execution_count": 5,
   "metadata": {},
   "outputs": [
    {
     "data": {
      "text/plain": [
       "((276371, 53), (217171, 53))"
      ]
     },
     "execution_count": 5,
     "metadata": {},
     "output_type": "execute_result"
    }
   ],
   "source": [
    "df_nonzero = df_dropped[df_dropped['number_of_reviews'] > 0]\n",
    "df_dropped.shape, df_nonzero.shape"
   ]
  },
  {
   "cell_type": "markdown",
   "metadata": {},
   "source": [
    "### Fixing Datatypes\n",
    "\n",
    "Some columns have incorrect datatypes, such as:\n",
    "- `host_response_rate` and `host_acceptance_rate` should be change from a `str` percent to a `float`.\n",
    "- `host_is_superhost`, `host_has_profile_pic`, `host_identity_verified`, `has_availability`, `instant_bookable` should be booleans.\n",
    "- `last_scraped` and `host_since` should be Pandas timestamps.\n",
    "- `price` should be a float in dollars.\n",
    "- `amenities` and `host_verifications` should be a list."
   ]
  },
  {
   "cell_type": "code",
   "execution_count": 6,
   "metadata": {},
   "outputs": [
    {
     "name": "stderr",
     "output_type": "stream",
     "text": [
      "C:\\Users\\ryany\\AppData\\Local\\Temp\\ipykernel_11124\\3016406255.py:12: FutureWarning: Downcasting behavior in `replace` is deprecated and will be removed in a future version. To retain the old behavior, explicitly call `result.infer_objects(copy=False)`. To opt-in to the future behavior, set `pd.set_option('future.no_silent_downcasting', True)`\n",
      "  df['instant_bookable'] = df['instant_bookable'].replace(bool_dict)\n"
     ]
    },
    {
     "data": {
      "text/markdown": [
       "|    | last_scraped        | name                       | description                                                                                                                                                            |   neighborhood_overview | host_since          | host_about                               | host_response_time   |   host_response_rate |   host_acceptance_rate | host_is_superhost   |   host_neighbourhood | host_verifications   | host_has_profile_pic   | host_identity_verified   |   neighbourhood | neighbourhood_cleansed   |   neighbourhood_group_cleansed |   latitude |   longitude | property_type      | room_type       |   accommodates |   bathrooms | bathrooms_text   |   bedrooms |   beds | amenities                                                                                                                          |   price |   minimum_nights |   maximum_nights |   minimum_nights_avg_ntm |   maximum_nights_avg_ntm | has_availability   |   availability_30 |   availability_60 |   availability_90 |   availability_365 |   number_of_reviews |   number_of_reviews_ltm |   number_of_reviews_l30d |   review_scores_rating |   review_scores_accuracy |   review_scores_cleanliness |   review_scores_checkin |   review_scores_communication |   review_scores_location |   review_scores_value | instant_bookable   |   calculated_host_listings_count |   calculated_host_listings_count_entire_homes |   calculated_host_listings_count_private_rooms |   calculated_host_listings_count_shared_rooms |   reviews_per_month |\n",
       "|---:|:--------------------|:---------------------------|:-----------------------------------------------------------------------------------------------------------------------------------------------------------------------|------------------------:|:--------------------|:-----------------------------------------|:---------------------|---------------------:|-----------------------:|:--------------------|---------------------:|:---------------------|:-----------------------|:-------------------------|----------------:|:-------------------------|-------------------------------:|-----------:|------------:|:-------------------|:----------------|---------------:|------------:|:-----------------|-----------:|-------:|:-----------------------------------------------------------------------------------------------------------------------------------|--------:|-----------------:|-----------------:|-------------------------:|-------------------------:|:-------------------|------------------:|------------------:|------------------:|-------------------:|--------------------:|------------------------:|-------------------------:|-----------------------:|-------------------------:|----------------------------:|------------------------:|------------------------------:|-------------------------:|----------------------:|:-------------------|---------------------------------:|----------------------------------------------:|-----------------------------------------------:|----------------------------------------------:|--------------------:|\n",
       "|  0 | 2024-06-07 00:00:00 | Luxury 2 bedroom apartment | The apartment is located in a quiet neighborhood . Fully furnished. Linens and towels are provided. It's two blocks away from downtown Albany, and the Palace theater. |                     nan | 2013-01-07 00:00:00 | I am a real down to earth & cool person. | within a few hours   |                    1 |                      1 | False               |                  nan | ['email', 'phone']   | True                   | False                    |             nan | THIRD WARD               |                            nan |    42.6579 |    -73.7537 | Entire rental unit | Entire home/apt |              4 |           1 | 1 bath           |          2 |      2 | ['Essentials', 'Air conditioning', 'Wifi', 'Kitchen', 'TV with standard cable', 'Smoke alarm', 'Carbon monoxide alarm', 'Heating'] |      70 |               28 |             1125 |                       28 |                     1125 | True               |                 0 |                 0 |                 0 |                 68 |                   9 |                       0 |                        0 |                   3.56 |                     3.44 |                        3.56 |                    4.22 |                          4.56 |                     3.22 |                  3.67 | False              |                                1 |                                             1 |                                              0 |                                             0 |                0.07 |"
      ],
      "text/plain": [
       "<IPython.core.display.Markdown object>"
      ]
     },
     "execution_count": 6,
     "metadata": {},
     "output_type": "execute_result"
    }
   ],
   "source": [
    "df = df_nonzero.copy()\n",
    "\n",
    "df['host_response_rate'] = df['host_response_rate'].str.strip(\"%\").astype('float') / 100\n",
    "df['host_acceptance_rate'] = df['host_acceptance_rate'].str.strip(\"%\").astype('float') / 100\n",
    "df['description'] = df['description'].astype(str)\n",
    "\n",
    "bool_dict = {'t':True, 'f':False}\n",
    "df['host_is_superhost'] = df['host_is_superhost'].replace(bool_dict)\n",
    "df['host_has_profile_pic'] = df['host_has_profile_pic'].replace(bool_dict)\n",
    "df['host_identity_verified'] = df['host_identity_verified'].replace(bool_dict)\n",
    "df['has_availability'] = df['has_availability'].replace(bool_dict)\n",
    "df['instant_bookable'] = df['instant_bookable'].replace(bool_dict)\n",
    "\n",
    "df['last_scraped'] = pd.to_datetime(df['last_scraped'], format=\"%Y-%m-%d\")\n",
    "df['host_since'] = pd.to_datetime(df['host_since'], format=\"%Y-%m-%d\")\n",
    "\n",
    "df['price'] = df['price'].str.strip(\"$\").str.replace(',','').astype('float')\n",
    "\n",
    "df['amenities'] = df['amenities'].apply(lambda x: ast.literal_eval(x))\n",
    "df['host_verifications'] = df['host_verifications'].apply(lambda x: [] if x is np.nan else ast.literal_eval(x))\n",
    "\n",
    "Markdown(df.head(1).to_markdown())"
   ]
  },
  {
   "cell_type": "markdown",
   "metadata": {},
   "source": [
    "For utility, we create a list of all the text and categorical columns "
   ]
  },
  {
   "cell_type": "code",
   "execution_count": 7,
   "metadata": {},
   "outputs": [
    {
     "data": {
      "text/plain": [
       "['last_scraped',\n",
       " 'name',\n",
       " 'description',\n",
       " 'neighborhood_overview',\n",
       " 'host_since',\n",
       " 'host_about',\n",
       " 'host_response_time',\n",
       " 'host_is_superhost',\n",
       " 'host_neighbourhood',\n",
       " 'host_verifications',\n",
       " 'host_has_profile_pic',\n",
       " 'host_identity_verified',\n",
       " 'neighbourhood',\n",
       " 'neighbourhood_cleansed',\n",
       " 'neighbourhood_group_cleansed',\n",
       " 'property_type',\n",
       " 'room_type',\n",
       " 'bathrooms_text',\n",
       " 'amenities',\n",
       " 'has_availability',\n",
       " 'instant_bookable']"
      ]
     },
     "execution_count": 7,
     "metadata": {},
     "output_type": "execute_result"
    }
   ],
   "source": [
    "text_cat_cols = list(filter(lambda x: x not in df.select_dtypes(np.number).columns, df.columns))\n",
    "text_cat_cols"
   ]
  },
  {
   "cell_type": "markdown",
   "metadata": {},
   "source": [
    "## Feature Engineering"
   ]
  },
  {
   "cell_type": "markdown",
   "metadata": {},
   "source": [
    "For the numerical columns, we will normalize the data, as we believe these speak for themselves as features. However, we cannot simply pass categorical columns into a regression model. Thus, we go through some of the most important categorical columns (in no particular order) and consider various ways of encoding them into a numerical feature."
   ]
  },
  {
   "cell_type": "markdown",
   "metadata": {},
   "source": [
    "### Feature 1: Name\n",
    "\n",
    "The feature we are looking at is called `names` which holds the name of an airbnb listing. We decided to look for my most common words found throughout each name, and throughout names of listings with review scores of 4.9 or above and 100 reviews or above, to try and single out higlighly rated and popular listings. \n",
    "\n",
    "The issue with this is that the most common words found throughout all the names of each listing are words such as `the`, `in`, `etc` - words that really have no meaning without context. For example, the word `in` is the most popular word throughout all the listing's names, but it simply has no meaning without context, so we decided to look at the top 200 words and filter and select words that can be used individually. After filtering the top 200 words and using a regression plot between the relationship between the target variable, review_scores_rating, and names feature, we can see that they have a positive linear relationship, indicating that names is an impactful feature when predicting the target variable. "
   ]
  },
  {
   "cell_type": "code",
   "execution_count": 8,
   "metadata": {},
   "outputs": [],
   "source": [
    "from sklearn.base import BaseEstimator, TransformerMixin\n",
    "class SubstringsTransformer(BaseEstimator, TransformerMixin):\n",
    "    def __init__(self, substrings):\n",
    "        self.substrings = substrings\n",
    "        self.substrings_regex = \"|\".join(substrings)\n",
    "\n",
    "    def fit(self, X, y=None):\n",
    "        return self\n",
    "    \n",
    "    def transform(self, X, y=None):\n",
    "        if isinstance(X, (pd.DataFrame)):\n",
    "            return X.map(self._count_substrings).to_numpy()\n",
    "        elif isinstance(X, (pd.Series)):\n",
    "            return pd.DataFrame(X.apply(self._count_substrings)).to_numpy()\n",
    "        else:\n",
    "            raise ValueError(f\"Unsupported data type: {type(X)}\")\n",
    "        \n",
    "    def _count_substrings(self, s):\n",
    "        if not isinstance(s, str):\n",
    "            s = str(s)\n",
    "        return len(re.findall(self.substrings_regex, s))"
   ]
  },
  {
   "cell_type": "code",
   "execution_count": 9,
   "metadata": {},
   "outputs": [
    {
     "data": {
      "text/plain": [
       "0.033259505182551996"
      ]
     },
     "execution_count": 9,
     "metadata": {},
     "output_type": "execute_result"
    }
   ],
   "source": [
    "trans = SubstringsTransformer(['private','cozy','retreat'])\n",
    "trans.fit_transform(df[['name']].astype(str)).mean()"
   ]
  },
  {
   "cell_type": "code",
   "execution_count": 10,
   "metadata": {},
   "outputs": [
    {
     "data": {
      "text/plain": [
       "(16161, 53)"
      ]
     },
     "execution_count": 10,
     "metadata": {},
     "output_type": "execute_result"
    }
   ],
   "source": [
    "df_good = df[(df['review_scores_rating'] >= 4.9) & (df['number_of_reviews'] >= 100)]\n",
    "df_good.shape # Number of really good listings based on our definition"
   ]
  },
  {
   "cell_type": "code",
   "execution_count": 11,
   "metadata": {},
   "outputs": [],
   "source": [
    "def count_words(df_here, col):\n",
    "    \"\"\" Counts ths number of words in the given col and DataFrame \"\"\"\n",
    "    # Count most common words as proportions in the good listings\n",
    "    text = ' '.join(df_here[col].convert_dtypes(str).dropna())\n",
    "    words = re.findall(r'\\b\\w+\\b', text.lower())\n",
    "    name_count = Counter(words)\n",
    "\n",
    "    # Convert to dataframe\n",
    "    name_df = (pd.DataFrame.from_dict(\n",
    "        name_count, \n",
    "        orient='index', \n",
    "        columns=['count']\n",
    "    )   \n",
    "        .reset_index()\n",
    "        .rename(columns={'index': 'word'})\n",
    "        .sort_values(by='count', ascending=False)\n",
    "    )\n",
    "\n",
    "    # Normalize as proportion and add rank\n",
    "    name_df['count_prop'] = name_df['count'] / name_df['count'].sum()\n",
    "    name_df['rank'] = name_df['count_prop'].rank(ascending=False)\n",
    "\n",
    "    return name_df"
   ]
  },
  {
   "cell_type": "code",
   "execution_count": 12,
   "metadata": {},
   "outputs": [
    {
     "data": {
      "text/html": [
       "<div>\n",
       "<style scoped>\n",
       "    .dataframe tbody tr th:only-of-type {\n",
       "        vertical-align: middle;\n",
       "    }\n",
       "\n",
       "    .dataframe tbody tr th {\n",
       "        vertical-align: top;\n",
       "    }\n",
       "\n",
       "    .dataframe thead th {\n",
       "        text-align: right;\n",
       "    }\n",
       "</style>\n",
       "<table border=\"1\" class=\"dataframe\">\n",
       "  <thead>\n",
       "    <tr style=\"text-align: right;\">\n",
       "      <th></th>\n",
       "      <th>word</th>\n",
       "      <th>count_good</th>\n",
       "      <th>count_prop_good</th>\n",
       "      <th>rank_good</th>\n",
       "      <th>count_all</th>\n",
       "      <th>count_prop_all</th>\n",
       "      <th>rank_all</th>\n",
       "    </tr>\n",
       "  </thead>\n",
       "  <tbody>\n",
       "    <tr>\n",
       "      <th>16338</th>\n",
       "      <td>in</td>\n",
       "      <td>2973.0</td>\n",
       "      <td>0.027643</td>\n",
       "      <td>1.0</td>\n",
       "      <td>37581</td>\n",
       "      <td>0.026288</td>\n",
       "      <td>1.0</td>\n",
       "    </tr>\n",
       "    <tr>\n",
       "      <th>23488</th>\n",
       "      <td>private</td>\n",
       "      <td>2496.0</td>\n",
       "      <td>0.023208</td>\n",
       "      <td>2.0</td>\n",
       "      <td>23470</td>\n",
       "      <td>0.016417</td>\n",
       "      <td>2.0</td>\n",
       "    </tr>\n",
       "    <tr>\n",
       "      <th>28152</th>\n",
       "      <td>to</td>\n",
       "      <td>2064.0</td>\n",
       "      <td>0.019191</td>\n",
       "      <td>3.0</td>\n",
       "      <td>23467</td>\n",
       "      <td>0.016415</td>\n",
       "      <td>3.0</td>\n",
       "    </tr>\n",
       "    <tr>\n",
       "      <th>27935</th>\n",
       "      <td>the</td>\n",
       "      <td>1975.0</td>\n",
       "      <td>0.018364</td>\n",
       "      <td>4.0</td>\n",
       "      <td>21632</td>\n",
       "      <td>0.015132</td>\n",
       "      <td>4.0</td>\n",
       "    </tr>\n",
       "    <tr>\n",
       "      <th>15708</th>\n",
       "      <td>home</td>\n",
       "      <td>1474.0</td>\n",
       "      <td>0.013706</td>\n",
       "      <td>5.0</td>\n",
       "      <td>20676</td>\n",
       "      <td>0.014463</td>\n",
       "      <td>6.0</td>\n",
       "    </tr>\n",
       "    <tr>\n",
       "      <th>15909</th>\n",
       "      <td>house</td>\n",
       "      <td>1350.0</td>\n",
       "      <td>0.012553</td>\n",
       "      <td>6.0</td>\n",
       "      <td>12499</td>\n",
       "      <td>0.008743</td>\n",
       "      <td>17.0</td>\n",
       "    </tr>\n",
       "    <tr>\n",
       "      <th>30256</th>\n",
       "      <td>with</td>\n",
       "      <td>1302.0</td>\n",
       "      <td>0.012106</td>\n",
       "      <td>7.0</td>\n",
       "      <td>16775</td>\n",
       "      <td>0.011734</td>\n",
       "      <td>11.0</td>\n",
       "    </tr>\n",
       "    <tr>\n",
       "      <th>7357</th>\n",
       "      <td>beach</td>\n",
       "      <td>1210.0</td>\n",
       "      <td>0.011251</td>\n",
       "      <td>8.0</td>\n",
       "      <td>17934</td>\n",
       "      <td>0.012545</td>\n",
       "      <td>9.0</td>\n",
       "    </tr>\n",
       "    <tr>\n",
       "      <th>27143</th>\n",
       "      <td>studio</td>\n",
       "      <td>1199.0</td>\n",
       "      <td>0.011149</td>\n",
       "      <td>9.0</td>\n",
       "      <td>15646</td>\n",
       "      <td>0.010944</td>\n",
       "      <td>12.0</td>\n",
       "    </tr>\n",
       "    <tr>\n",
       "      <th>27286</th>\n",
       "      <td>suite</td>\n",
       "      <td>1197.0</td>\n",
       "      <td>0.011130</td>\n",
       "      <td>10.0</td>\n",
       "      <td>10091</td>\n",
       "      <td>0.007059</td>\n",
       "      <td>23.0</td>\n",
       "    </tr>\n",
       "  </tbody>\n",
       "</table>\n",
       "</div>"
      ],
      "text/plain": [
       "          word  count_good  count_prop_good  rank_good  count_all  \\\n",
       "16338       in      2973.0         0.027643        1.0      37581   \n",
       "23488  private      2496.0         0.023208        2.0      23470   \n",
       "28152       to      2064.0         0.019191        3.0      23467   \n",
       "27935      the      1975.0         0.018364        4.0      21632   \n",
       "15708     home      1474.0         0.013706        5.0      20676   \n",
       "15909    house      1350.0         0.012553        6.0      12499   \n",
       "30256     with      1302.0         0.012106        7.0      16775   \n",
       "7357     beach      1210.0         0.011251        8.0      17934   \n",
       "27143   studio      1199.0         0.011149        9.0      15646   \n",
       "27286    suite      1197.0         0.011130       10.0      10091   \n",
       "\n",
       "       count_prop_all  rank_all  \n",
       "16338        0.026288       1.0  \n",
       "23488        0.016417       2.0  \n",
       "28152        0.016415       3.0  \n",
       "27935        0.015132       4.0  \n",
       "15708        0.014463       6.0  \n",
       "15909        0.008743      17.0  \n",
       "30256        0.011734      11.0  \n",
       "7357         0.012545       9.0  \n",
       "27143        0.010944      12.0  \n",
       "27286        0.007059      23.0  "
      ]
     },
     "execution_count": 12,
     "metadata": {},
     "output_type": "execute_result"
    }
   ],
   "source": [
    "good_name_df = count_words(df_good, 'name')\n",
    "all_name_df = count_words(df, 'name')\n",
    "\n",
    "# Merge the dataframes\n",
    "name_df = (pd.merge(\n",
    "    good_name_df, all_name_df, \n",
    "    on='word',\n",
    "    how='outer', \n",
    "    suffixes=('_good','_all')\n",
    ")\n",
    "    .sort_values(by='count_good', ascending=False)\n",
    ")\n",
    "\n",
    "name_df.head(10)"
   ]
  },
  {
   "cell_type": "code",
   "execution_count": 78,
   "metadata": {},
   "outputs": [],
   "source": [
    "name_df['word'].head(1000).to_csv(\"names.csv\", index=False)"
   ]
  },
  {
   "cell_type": "code",
   "execution_count": 13,
   "metadata": {},
   "outputs": [],
   "source": [
    "names_meaningful = [\n",
    "    'private',\n",
    "    'cozy',\n",
    "    'downtown',\n",
    "    'parking',\n",
    "    'retreat',\n",
    "    'view',\n",
    "    'spacious',\n",
    "    'views',\n",
    "    'charming',\n",
    "    'luxury',\n",
    "    'beautiful',\n",
    "    'new',\n",
    "    'quiet',\n",
    "    'clean',\n",
    "    'bright',\n",
    "]"
   ]
  },
  {
   "cell_type": "code",
   "execution_count": 14,
   "metadata": {},
   "outputs": [
    {
     "data": {
      "text/plain": [
       "<Axes: xlabel='name', ylabel='review_scores_rating'>"
      ]
     },
     "execution_count": 14,
     "metadata": {},
     "output_type": "execute_result"
    },
    {
     "data": {
      "image/png": "[encoded data removed]",
      "text/plain": [
       "<Figure size 640x480 with 1 Axes>"
      ]
     },
     "metadata": {},
     "output_type": "display_data"
    }
   ],
   "source": [
    "counts = df['name'].str.count('|'.join(names_meaningful))\n",
    "sns.regplot(\n",
    "    x=counts[counts <= 10],\n",
    "    y=df['review_scores_rating'][counts <= 10],\n",
    "    line_kws=dict(color=\"orange\")\n",
    ")"
   ]
  },
  {
   "cell_type": "markdown",
   "metadata": {},
   "source": [
    "### Feature 2: Length of Amenities\n"
   ]
  },
  {
   "cell_type": "markdown",
   "metadata": {},
   "source": [
    "The datatype of `amenities` is a list of strings listing all the amenities an airbnb listing has. In order to use this feature, we decided to plot the linear regression relationship between the target variable `review_scores_rating` and the length of the `amenities` list (the bigger the length, the more amenities a listing has). We see that the more amenities a listing has, the higher the review_score_rating is, indicating a positive correlation between the two parameters. "
   ]
  },
  {
   "cell_type": "code",
   "execution_count": 15,
   "metadata": {},
   "outputs": [
    {
     "data": {
      "text/plain": [
       "0         [Essentials, Air conditioning, Wifi, Kitchen, ...\n",
       "1         [Free washer – In unit, Free parking on premis...\n",
       "2         [Lockbox, Dedicated workspace, Self check-in, ...\n",
       "3         [Washer, Self check-in, Keypad, Microwave, Hai...\n",
       "4         [Kitchen, Exterior security cameras on propert...\n",
       "                                ...                        \n",
       "276350    [Blender, Free dryer – In unit, Wifi, Carbon m...\n",
       "276352    [Suave shampoo, Toaster, Dedicated workspace, ...\n",
       "276354    [Dedicated workspace, Wifi, Carbon monoxide al...\n",
       "276355    [Dedicated workspace, Washer, Wifi, Smoke alar...\n",
       "276370    [Toaster, Dedicated workspace, Baking sheet, W...\n",
       "Name: amenities, Length: 217171, dtype: object"
      ]
     },
     "execution_count": 15,
     "metadata": {},
     "output_type": "execute_result"
    }
   ],
   "source": [
    "df['amenities']"
   ]
  },
  {
   "cell_type": "code",
   "execution_count": null,
   "metadata": {},
   "outputs": [
    {
     "data": {
      "text/plain": [
       "<Axes: xlabel='amenities', ylabel='review_scores_rating'>"
      ]
     },
     "execution_count": 353,
     "metadata": {},
     "output_type": "execute_result"
    },
    {
     "data": {
      "image/png": "[encoded data removed]",
      "text/plain": [
       "<Figure size 640x480 with 1 Axes>"
      ]
     },
     "metadata": {},
     "output_type": "display_data"
    }
   ],
   "source": [
    "sns.regplot(\n",
    "    x=df['amenities'].apply(len),\n",
    "    y=df['review_scores_rating'],\n",
    "    line_kws=dict(color=\"orange\")\n",
    ")"
   ]
  },
  {
   "cell_type": "markdown",
   "metadata": {},
   "source": [
    "We create a sklearn transformer to more easily integrate this into our model."
   ]
  },
  {
   "cell_type": "code",
   "execution_count": 16,
   "metadata": {},
   "outputs": [],
   "source": [
    "class LengthTransformer(BaseEstimator, TransformerMixin):\n",
    "    def __init__(self):\n",
    "        pass\n",
    "\n",
    "    def fit(self, X, y=None):\n",
    "        return self\n",
    "    \n",
    "    def transform(self, X, y=None):\n",
    "        if isinstance(X, (pd.DataFrame)):\n",
    "            return X.map(len).to_numpy()\n",
    "        elif isinstance(X, (pd.Series)):\n",
    "            return pd.DataFrame(X.apply(len)).to_numpy()\n",
    "        else:\n",
    "            raise ValueError(f\"Unsupported data type: {type(X)}\")"
   ]
  },
  {
   "cell_type": "code",
   "execution_count": 17,
   "metadata": {},
   "outputs": [
    {
     "data": {
      "text/plain": [
       "40.02224514322815"
      ]
     },
     "execution_count": 17,
     "metadata": {},
     "output_type": "execute_result"
    }
   ],
   "source": [
    "trans = LengthTransformer()\n",
    "trans.fit_transform(df['amenities']).mean()"
   ]
  },
  {
   "cell_type": "markdown",
   "metadata": {},
   "source": [
    "### Feature 3: Host Verifications\n",
    "\n",
    "The column `host_verifications` tells the user which method of communication of the host is vertified. To work with this feature, we decided to encode the length of all the list, since it would be difficult to determine whether it is more valuable to have one type of verification than the other, but it is relatively sensible that more verifications imply a more communicative host. \n",
    "\n",
    "We then plotted a regression plot and based on the graph, and we observed that the relationship between `host_vertifications` and `review_scores_rating` is pretty flat, indicating that `host_vertification` has a weak correlation to `review_scores_rating`, making it a unreliable feature. Hence we are dropping it i.e. not using it in our model.\n",
    "\n",
    "This makes sense, since someone is unlikely to rate a listing higher just because say the host is accesible through two email adresses instead of one."
   ]
  },
  {
   "cell_type": "code",
   "execution_count": 18,
   "metadata": {},
   "outputs": [
    {
     "data": {
      "text/plain": [
       "host_verifications\n",
       "[email, phone]                              170359\n",
       "[email, phone, work_email]                   30482\n",
       "[phone]                                      15112\n",
       "[phone, work_email]                            999\n",
       "[email]                                        141\n",
       "[]                                              59\n",
       "[email, work_email]                             10\n",
       "[email, phone, photographer]                     8\n",
       "[email, phone, photographer, work_email]         1\n",
       "Name: count, dtype: int64"
      ]
     },
     "execution_count": 18,
     "metadata": {},
     "output_type": "execute_result"
    }
   ],
   "source": [
    "df['host_verifications'].value_counts()"
   ]
  },
  {
   "cell_type": "code",
   "execution_count": 354,
   "metadata": {},
   "outputs": [
    {
     "data": {
      "text/plain": [
       "<Axes: xlabel='host_verifications', ylabel='review_scores_rating'>"
      ]
     },
     "execution_count": 354,
     "metadata": {},
     "output_type": "execute_result"
    },
    {
     "data": {
      "image/png": "[encoded data removed]",
      "text/plain": [
       "<Figure size 640x480 with 1 Axes>"
      ]
     },
     "metadata": {},
     "output_type": "display_data"
    }
   ],
   "source": [
    "sns.regplot(\n",
    "    x=df['host_verifications'].apply(lambda x: 0 if x is np.nan else len(x)),\n",
    "    y=df['review_scores_rating'],\n",
    "    line_kws=dict(color=\"orange\")\n",
    ")"
   ]
  },
  {
   "cell_type": "markdown",
   "metadata": {},
   "source": [
    "### Feature 4: Description\n",
    "\n",
    "The data type is a long string that holds a detailed descrition of an airbnb listing. We decided to employ the same encoding method as the names feature - we find the most common words in the good listings (those with review scores above 4.9 and at least 100 reviews) and compare them to their prevalence amongst all listings.\n",
    "\n",
    "We plotted a regression plot between the `description` feature and `review_score_rating`. We noticed that it as a positive regression line, indicating that listings with the the most popular description words in it have a higher `review_score_rating`, indicating that description is a good predictor of the target variable."
   ]
  },
  {
   "cell_type": "code",
   "execution_count": null,
   "metadata": {},
   "outputs": [
    {
     "data": {
      "text/plain": [
       "\"The apartment is located in a quiet neighborhood . Fully furnished. Linens and towels are provided. It's two blocks away from downtown Albany, and the Palace theater.\""
      ]
     },
     "execution_count": 13,
     "metadata": {},
     "output_type": "execute_result"
    }
   ],
   "source": [
    "df['description']"
   ]
  },
  {
   "cell_type": "code",
   "execution_count": 91,
   "metadata": {},
   "outputs": [
    {
     "data": {
      "text/html": [
       "<div>\n",
       "<style scoped>\n",
       "    .dataframe tbody tr th:only-of-type {\n",
       "        vertical-align: middle;\n",
       "    }\n",
       "\n",
       "    .dataframe tbody tr th {\n",
       "        vertical-align: top;\n",
       "    }\n",
       "\n",
       "    .dataframe thead th {\n",
       "        text-align: right;\n",
       "    }\n",
       "</style>\n",
       "<table border=\"1\" class=\"dataframe\">\n",
       "  <thead>\n",
       "    <tr style=\"text-align: right;\">\n",
       "      <th></th>\n",
       "      <th>word</th>\n",
       "      <th>count_good</th>\n",
       "      <th>count_prop_good</th>\n",
       "      <th>rank_good</th>\n",
       "      <th>count_all</th>\n",
       "      <th>count_prop_all</th>\n",
       "      <th>rank_all</th>\n",
       "    </tr>\n",
       "  </thead>\n",
       "  <tbody>\n",
       "    <tr>\n",
       "      <th>51964</th>\n",
       "      <td>the</td>\n",
       "      <td>46068.0</td>\n",
       "      <td>0.038441</td>\n",
       "      <td>1.0</td>\n",
       "      <td>548240</td>\n",
       "      <td>0.038686</td>\n",
       "      <td>1.0</td>\n",
       "    </tr>\n",
       "    <tr>\n",
       "      <th>9508</th>\n",
       "      <td>and</td>\n",
       "      <td>44155.0</td>\n",
       "      <td>0.036844</td>\n",
       "      <td>2.0</td>\n",
       "      <td>528386</td>\n",
       "      <td>0.037285</td>\n",
       "      <td>2.0</td>\n",
       "    </tr>\n",
       "    <tr>\n",
       "      <th>7906</th>\n",
       "      <td>a</td>\n",
       "      <td>33236.0</td>\n",
       "      <td>0.027733</td>\n",
       "      <td>3.0</td>\n",
       "      <td>382937</td>\n",
       "      <td>0.027021</td>\n",
       "      <td>4.0</td>\n",
       "    </tr>\n",
       "    <tr>\n",
       "      <th>13588</th>\n",
       "      <td>br</td>\n",
       "      <td>32005.0</td>\n",
       "      <td>0.026706</td>\n",
       "      <td>4.0</td>\n",
       "      <td>401361</td>\n",
       "      <td>0.028322</td>\n",
       "      <td>3.0</td>\n",
       "    </tr>\n",
       "    <tr>\n",
       "      <th>52557</th>\n",
       "      <td>to</td>\n",
       "      <td>30563.0</td>\n",
       "      <td>0.025503</td>\n",
       "      <td>5.0</td>\n",
       "      <td>356066</td>\n",
       "      <td>0.025125</td>\n",
       "      <td>5.0</td>\n",
       "    </tr>\n",
       "    <tr>\n",
       "      <th>...</th>\n",
       "      <td>...</td>\n",
       "      <td>...</td>\n",
       "      <td>...</td>\n",
       "      <td>...</td>\n",
       "      <td>...</td>\n",
       "      <td>...</td>\n",
       "      <td>...</td>\n",
       "    </tr>\n",
       "    <tr>\n",
       "      <th>49582</th>\n",
       "      <td>st</td>\n",
       "      <td>943.0</td>\n",
       "      <td>0.000787</td>\n",
       "      <td>196.0</td>\n",
       "      <td>7901</td>\n",
       "      <td>0.000558</td>\n",
       "      <td>291.0</td>\n",
       "    </tr>\n",
       "    <tr>\n",
       "      <th>45043</th>\n",
       "      <td>right</td>\n",
       "      <td>942.0</td>\n",
       "      <td>0.000786</td>\n",
       "      <td>197.0</td>\n",
       "      <td>12580</td>\n",
       "      <td>0.000888</td>\n",
       "      <td>182.0</td>\n",
       "    </tr>\n",
       "    <tr>\n",
       "      <th>45875</th>\n",
       "      <td>safe</td>\n",
       "      <td>936.0</td>\n",
       "      <td>0.000781</td>\n",
       "      <td>198.0</td>\n",
       "      <td>10160</td>\n",
       "      <td>0.000717</td>\n",
       "      <td>216.0</td>\n",
       "    </tr>\n",
       "    <tr>\n",
       "      <th>15638</th>\n",
       "      <td>centrally</td>\n",
       "      <td>932.0</td>\n",
       "      <td>0.000778</td>\n",
       "      <td>199.0</td>\n",
       "      <td>18636</td>\n",
       "      <td>0.001315</td>\n",
       "      <td>121.0</td>\n",
       "    </tr>\n",
       "    <tr>\n",
       "      <th>48685</th>\n",
       "      <td>so</td>\n",
       "      <td>928.0</td>\n",
       "      <td>0.000774</td>\n",
       "      <td>201.0</td>\n",
       "      <td>9961</td>\n",
       "      <td>0.000703</td>\n",
       "      <td>221.0</td>\n",
       "    </tr>\n",
       "  </tbody>\n",
       "</table>\n",
       "<p>200 rows × 7 columns</p>\n",
       "</div>"
      ],
      "text/plain": [
       "            word  count_good  count_prop_good  rank_good  count_all  \\\n",
       "51964        the     46068.0         0.038441        1.0     548240   \n",
       "9508         and     44155.0         0.036844        2.0     528386   \n",
       "7906           a     33236.0         0.027733        3.0     382937   \n",
       "13588         br     32005.0         0.026706        4.0     401361   \n",
       "52557         to     30563.0         0.025503        5.0     356066   \n",
       "...          ...         ...              ...        ...        ...   \n",
       "49582         st       943.0         0.000787      196.0       7901   \n",
       "45043      right       942.0         0.000786      197.0      12580   \n",
       "45875       safe       936.0         0.000781      198.0      10160   \n",
       "15638  centrally       932.0         0.000778      199.0      18636   \n",
       "48685         so       928.0         0.000774      201.0       9961   \n",
       "\n",
       "       count_prop_all  rank_all  \n",
       "51964        0.038686       1.0  \n",
       "9508         0.037285       2.0  \n",
       "7906         0.027021       4.0  \n",
       "13588        0.028322       3.0  \n",
       "52557        0.025125       5.0  \n",
       "...               ...       ...  \n",
       "49582        0.000558     291.0  \n",
       "45043        0.000888     182.0  \n",
       "45875        0.000717     216.0  \n",
       "15638        0.001315     121.0  \n",
       "48685        0.000703     221.0  \n",
       "\n",
       "[200 rows x 7 columns]"
      ]
     },
     "execution_count": 91,
     "metadata": {},
     "output_type": "execute_result"
    }
   ],
   "source": [
    "good_desc_df = count_words(df_good, 'description')\n",
    "all_desc_df = count_words(df, 'description')\n",
    "\n",
    "# Merge the dataframes\n",
    "desc_df = (pd.merge(\n",
    "    good_desc_df, all_desc_df, \n",
    "    on='word',\n",
    "    how='outer', \n",
    "    suffixes=('_good','_all')\n",
    ")\n",
    "    .sort_values(by='count_good', ascending=False)\n",
    ")\n",
    "\n",
    "desc_df.head(200)"
   ]
  },
  {
   "cell_type": "code",
   "execution_count": 366,
   "metadata": {},
   "outputs": [
    {
     "data": {
      "image/png": "[encoded data removed]",
      "text/plain": [
       "<Figure size 640x480 with 1 Axes>"
      ]
     },
     "metadata": {},
     "output_type": "display_data"
    }
   ],
   "source": [
    "desc_melted_df = desc_df.head(40).melt(\n",
    "    id_vars='word',\n",
    "    value_vars=['count_prop_good','count_prop_all'],\n",
    "    var_name='Listing Type',\n",
    "    value_name='value'\n",
    ")\n",
    "\n",
    "ax = sns.barplot(\n",
    "    desc_melted_df,\n",
    "    x='value',\n",
    "    y='word',\n",
    "    hue='Listing Type',\n",
    ")\n",
    "\n",
    "ax.set_title('Proportion of Words in Listing Description')\n",
    "\n",
    "plt.show()"
   ]
  },
  {
   "cell_type": "code",
   "execution_count": 23,
   "metadata": {},
   "outputs": [],
   "source": [
    "desc_meaningful = [\n",
    "    'private',\n",
    "    'home',\n",
    "    'downtown',\n",
    "    'restaurants',\n",
    "    'house',\n",
    "    'kitchen',\n",
    "    'beach',\n",
    "    'neighborhood',\n",
    "    'parking',\n",
    "    'apartment',\n",
    "    'modern',\n",
    "    'walking',\n",
    "    'shops',\n",
    "    'distance',\n",
    "    'city',\n",
    "    'close',\n",
    "    'tv',\n",
    "    'cozy',\n",
    "    'studio',\n",
    "    'spacious',\n",
    "    'comfortable',\n",
    "    'views',\n",
    "    'bars',\n",
    "    'renovated',\n",
    "    'airport',\n",
    "    'wifi',\n",
    "    'garden',\n",
    "    'dining',\n",
    "    'pool',\n",
    "    'shopping',\n",
    "]"
   ]
  },
  {
   "cell_type": "code",
   "execution_count": 24,
   "metadata": {},
   "outputs": [],
   "source": [
    "trans = SubstringsTransformer(desc_meaningful)\n",
    "desc_transformed = trans.fit_transform(df[['description']])"
   ]
  },
  {
   "cell_type": "code",
   "execution_count": 25,
   "metadata": {},
   "outputs": [
    {
     "data": {
      "text/plain": [
       "<Axes: ylabel='review_scores_rating'>"
      ]
     },
     "execution_count": 25,
     "metadata": {},
     "output_type": "execute_result"
    },
    {
     "data": {
      "image/png": "[encoded data removed]",
      "text/plain": [
       "<Figure size 640x480 with 1 Axes>"
      ]
     },
     "metadata": {},
     "output_type": "display_data"
    }
   ],
   "source": [
    "sns.regplot(\n",
    "    x=desc_transformed,\n",
    "    y=df['review_scores_rating'],\n",
    "    line_kws=dict(color=\"orange\")\n",
    ")"
   ]
  },
  {
   "cell_type": "markdown",
   "metadata": {},
   "source": [
    "### Feature 5: Host About"
   ]
  },
  {
   "cell_type": "markdown",
   "metadata": {},
   "source": [
    "The column `host_about` contains a string blurb of the host's description, such as their lifestyle or preferences.\n",
    "\n",
    "In the graph below we have plotted the proportions of how often the top 40 most frequent words show up in the `host_about` feature both for the good listings (review scores above 4.9 and at least 100 reviews) and for all listings. As indicated by the legend, the blue bars indicate the proportions of the words in the good listings, and the orange bars indicate the proportions of the words all listings.\n",
    "\n",
    "For words like 'and' where the blue bar is noticeably longer than the orange bar, this indicates that the good listings have this word included in the `host_about` feature with a higher frequency when compared to all listings. In the opposite scenario, such as for words like 'you', where the orange bar is noticeably longer than the blue bar, this indicates that the good listings have this word included in the `host_about` feature with a lower frequency when compared to all listings.\n",
    "\n",
    "If it were the case that many of the 40 most frequent words in the `host_about` feature fell into one of two previously described scenarios, then this would indicate to us that this feature most likely plays a role in determining the quality (in terms of review ratings) of a listing. In reality, however, we see that few of the top 40 most frequent words actually have a noticeable/relevant different in the length of the blue and orange bars, which is a strong indication that this feature is actually not all that useful when it comes to determining the review rating of a listing.\n",
    "\n",
    "Due to the aforementioned reasons, we are not going to be using this feature for our model as it does not seem to be helpful in determining the review rating of a listing."
   ]
  },
  {
   "cell_type": "code",
   "execution_count": 26,
   "metadata": {},
   "outputs": [
    {
     "data": {
      "text/html": [
       "<div>\n",
       "<style scoped>\n",
       "    .dataframe tbody tr th:only-of-type {\n",
       "        vertical-align: middle;\n",
       "    }\n",
       "\n",
       "    .dataframe tbody tr th {\n",
       "        vertical-align: top;\n",
       "    }\n",
       "\n",
       "    .dataframe thead th {\n",
       "        text-align: right;\n",
       "    }\n",
       "</style>\n",
       "<table border=\"1\" class=\"dataframe\">\n",
       "  <thead>\n",
       "    <tr style=\"text-align: right;\">\n",
       "      <th></th>\n",
       "      <th>word</th>\n",
       "      <th>count_good</th>\n",
       "      <th>count_prop_good</th>\n",
       "      <th>rank_good</th>\n",
       "      <th>count_all</th>\n",
       "      <th>count_prop_all</th>\n",
       "      <th>rank_all</th>\n",
       "    </tr>\n",
       "  </thead>\n",
       "  <tbody>\n",
       "    <tr>\n",
       "      <th>3082</th>\n",
       "      <td>and</td>\n",
       "      <td>43551.0</td>\n",
       "      <td>0.050905</td>\n",
       "      <td>1.0</td>\n",
       "      <td>412018</td>\n",
       "      <td>0.046149</td>\n",
       "      <td>1.0</td>\n",
       "    </tr>\n",
       "    <tr>\n",
       "      <th>19559</th>\n",
       "      <td>i</td>\n",
       "      <td>28897.0</td>\n",
       "      <td>0.033776</td>\n",
       "      <td>2.0</td>\n",
       "      <td>243780</td>\n",
       "      <td>0.027305</td>\n",
       "      <td>4.0</td>\n",
       "    </tr>\n",
       "    <tr>\n",
       "      <th>39689</th>\n",
       "      <td>to</td>\n",
       "      <td>27671.0</td>\n",
       "      <td>0.032343</td>\n",
       "      <td>3.0</td>\n",
       "      <td>296822</td>\n",
       "      <td>0.033246</td>\n",
       "      <td>2.0</td>\n",
       "    </tr>\n",
       "    <tr>\n",
       "      <th>39257</th>\n",
       "      <td>the</td>\n",
       "      <td>25110.0</td>\n",
       "      <td>0.029350</td>\n",
       "      <td>4.0</td>\n",
       "      <td>247198</td>\n",
       "      <td>0.027688</td>\n",
       "      <td>3.0</td>\n",
       "    </tr>\n",
       "    <tr>\n",
       "      <th>1510</th>\n",
       "      <td>a</td>\n",
       "      <td>20423.0</td>\n",
       "      <td>0.023871</td>\n",
       "      <td>5.0</td>\n",
       "      <td>212610</td>\n",
       "      <td>0.023814</td>\n",
       "      <td>5.0</td>\n",
       "    </tr>\n",
       "    <tr>\n",
       "      <th>...</th>\n",
       "      <td>...</td>\n",
       "      <td>...</td>\n",
       "      <td>...</td>\n",
       "      <td>...</td>\n",
       "      <td>...</td>\n",
       "      <td>...</td>\n",
       "      <td>...</td>\n",
       "    </tr>\n",
       "    <tr>\n",
       "      <th>19161</th>\n",
       "      <td>hospitality</td>\n",
       "      <td>607.0</td>\n",
       "      <td>0.000709</td>\n",
       "      <td>196.0</td>\n",
       "      <td>9984</td>\n",
       "      <td>0.001118</td>\n",
       "      <td>132.0</td>\n",
       "    </tr>\n",
       "    <tr>\n",
       "      <th>512</th>\n",
       "      <td>2</td>\n",
       "      <td>606.0</td>\n",
       "      <td>0.000708</td>\n",
       "      <td>197.0</td>\n",
       "      <td>5383</td>\n",
       "      <td>0.000603</td>\n",
       "      <td>238.0</td>\n",
       "    </tr>\n",
       "    <tr>\n",
       "      <th>28869</th>\n",
       "      <td>outdoors</td>\n",
       "      <td>605.0</td>\n",
       "      <td>0.000707</td>\n",
       "      <td>198.0</td>\n",
       "      <td>3908</td>\n",
       "      <td>0.000438</td>\n",
       "      <td>314.0</td>\n",
       "    </tr>\n",
       "    <tr>\n",
       "      <th>16056</th>\n",
       "      <td>free</td>\n",
       "      <td>601.0</td>\n",
       "      <td>0.000702</td>\n",
       "      <td>199.5</td>\n",
       "      <td>10967</td>\n",
       "      <td>0.001228</td>\n",
       "      <td>119.5</td>\n",
       "    </tr>\n",
       "    <tr>\n",
       "      <th>3873</th>\n",
       "      <td>asheville</td>\n",
       "      <td>601.0</td>\n",
       "      <td>0.000702</td>\n",
       "      <td>199.5</td>\n",
       "      <td>1658</td>\n",
       "      <td>0.000186</td>\n",
       "      <td>690.0</td>\n",
       "    </tr>\n",
       "  </tbody>\n",
       "</table>\n",
       "<p>200 rows × 7 columns</p>\n",
       "</div>"
      ],
      "text/plain": [
       "              word  count_good  count_prop_good  rank_good  count_all  \\\n",
       "3082           and     43551.0         0.050905        1.0     412018   \n",
       "19559            i     28897.0         0.033776        2.0     243780   \n",
       "39689           to     27671.0         0.032343        3.0     296822   \n",
       "39257          the     25110.0         0.029350        4.0     247198   \n",
       "1510             a     20423.0         0.023871        5.0     212610   \n",
       "...            ...         ...              ...        ...        ...   \n",
       "19161  hospitality       607.0         0.000709      196.0       9984   \n",
       "512              2       606.0         0.000708      197.0       5383   \n",
       "28869     outdoors       605.0         0.000707      198.0       3908   \n",
       "16056         free       601.0         0.000702      199.5      10967   \n",
       "3873     asheville       601.0         0.000702      199.5       1658   \n",
       "\n",
       "       count_prop_all  rank_all  \n",
       "3082         0.046149       1.0  \n",
       "19559        0.027305       4.0  \n",
       "39689        0.033246       2.0  \n",
       "39257        0.027688       3.0  \n",
       "1510         0.023814       5.0  \n",
       "...               ...       ...  \n",
       "19161        0.001118     132.0  \n",
       "512          0.000603     238.0  \n",
       "28869        0.000438     314.0  \n",
       "16056        0.001228     119.5  \n",
       "3873         0.000186     690.0  \n",
       "\n",
       "[200 rows x 7 columns]"
      ]
     },
     "execution_count": 26,
     "metadata": {},
     "output_type": "execute_result"
    }
   ],
   "source": [
    "good_about_df = count_words(df_good, 'host_about')\n",
    "all_about_df = count_words(df, 'host_about')\n",
    "\n",
    "# Merge the dataframes\n",
    "about_df = (pd.merge(\n",
    "    good_about_df, all_about_df, \n",
    "    on='word',\n",
    "    how='outer', \n",
    "    suffixes=('_good','_all')\n",
    ")\n",
    "    .sort_values(by='count_good', ascending=False)\n",
    ")\n",
    "\n",
    "about_df.head(200)"
   ]
  },
  {
   "cell_type": "code",
   "execution_count": 371,
   "metadata": {},
   "outputs": [
    {
     "data": {
      "image/png": "[encoded data removed]",
      "text/plain": [
       "<Figure size 640x480 with 1 Axes>"
      ]
     },
     "metadata": {},
     "output_type": "display_data"
    }
   ],
   "source": [
    "about_melted_df = about_df.head(40).melt(\n",
    "    id_vars='word',\n",
    "    value_vars=['count_prop_good','count_prop_all'],\n",
    "    var_name='Listing Type',\n",
    "    value_name='value'\n",
    ")\n",
    "\n",
    "ax = sns.barplot(\n",
    "    about_melted_df,\n",
    "    x='value',\n",
    "    y='word',\n",
    "    hue='Listing Type',\n",
    ")\n",
    "\n",
    "ax.set_title('Proportion of Words in Listing Host About')\n",
    "\n",
    "plt.show()"
   ]
  },
  {
   "cell_type": "markdown",
   "metadata": {},
   "source": [
    "### Feature 6: Property Type\n",
    "\n",
    "When it comes to the `property_type` feature, we trained our model using only this feature and when we look at the r^2 score for our model, we get 0.02993098364575919. The r^2 score can be seen as a continuous value in the interval [0, 1] which indicates how good this feature is at helping our model predict the reivew rating for a listing where 0 means bad and 1 means good. The score we got isn't good but its not like this feature is insignificant either. It is important to keep in mind that this is only a single feature for our model, so while it's r^2 score is relatively low, it is still a contributing to our model's ability/success in predicting a listing's review rating, thus we are going to be keeping this feature."
   ]
  },
  {
   "cell_type": "code",
   "execution_count": null,
   "metadata": {},
   "outputs": [
    {
     "data": {
      "text/plain": [
       "array(['Entire rental unit', 'Entire home', 'Private room in home',\n",
       "       'Private room in rental unit', 'Entire place',\n",
       "       'Private room in guest suite', 'Entire guest suite', 'Entire loft',\n",
       "       'Entire serviced apartment', 'Room in aparthotel', 'Entire condo',\n",
       "       'Entire townhouse', 'Entire vacation home', 'Entire cottage',\n",
       "       'Private room in townhouse', 'Private room in bed and breakfast',\n",
       "       'Room in hotel', 'Entire guesthouse', 'Shared room in rental unit',\n",
       "       'Shared room in hostel', 'Private room in cabin', 'Tiny home',\n",
       "       'Private room in bungalow', 'Entire bungalow', 'Entire cabin',\n",
       "       'Private room in cottage', 'Private room', 'Yurt', 'Camper/RV',\n",
       "       'Barn', 'Private room in religious building', 'Entire chalet',\n",
       "       'Farm stay', 'Private room in farm stay', 'Room in boutique hotel',\n",
       "       'Campsite', 'Treehouse', 'Private room in treehouse',\n",
       "       'Private room in hostel', 'Private room in guesthouse',\n",
       "       'Entire villa', 'Tent', 'Private room in loft',\n",
       "       'Private room in hut', 'Shipping container', 'Shared room in tent',\n",
       "       'Entire home/apt', 'Shared room in guesthouse', 'Hut',\n",
       "       'Private room in condo', 'Boat', 'Shared room in home',\n",
       "       'Private room in tiny home', 'Shared room',\n",
       "       'Private room in camper/rv', 'Bus', 'Shared room in townhouse',\n",
       "       'Shared room in loft', 'Private room in tent', 'Tipi', 'Ranch',\n",
       "       'Private room in resort', 'Room in bed and breakfast',\n",
       "       'Room in resort', 'Shared room in condo', 'Casa particular',\n",
       "       'Earthen home', 'Private room in earthen home',\n",
       "       'Shared room in cabin', 'Dome', 'Shared room in guest suite',\n",
       "       'Private room in casa particular', 'Houseboat', 'Tower',\n",
       "       'Private room in villa', 'Private room in tower',\n",
       "       'Private room in serviced apartment',\n",
       "       'Shared room in boutique hotel', 'Private room in vacation home',\n",
       "       'Shared room in vacation home', 'Room in hostel',\n",
       "       'Room in serviced apartment', 'Private room in barn', 'Castle',\n",
       "       'Lighthouse', 'Private room in boat', 'Private room in minsu',\n",
       "       'Shared room in bungalow', 'Entire resort',\n",
       "       'Shared room in resort', 'Private room in castle',\n",
       "       'Shared room in bed and breakfast', 'Shared room in villa',\n",
       "       'Holiday park', 'Shared room in serviced apartment',\n",
       "       'Private room in nature lodge', 'Entire bed and breakfast',\n",
       "       'Island', 'Shared room in hut', 'Room in nature lodge',\n",
       "       'Shared room in nature lodge', 'Private room in dome',\n",
       "       'Cycladic home', 'Shared room in farm stay', 'Floor', 'Train',\n",
       "       'Private room in houseboat', 'Shared room in camper/rv',\n",
       "       'Private room in yurt', 'Shepherd’s hut', 'Cave',\n",
       "       'Shared room in hotel', 'Religious building',\n",
       "       'Shared room in floor', 'Private room in kezhan',\n",
       "       'Shared room in casa particular', 'Private room in ranch',\n",
       "       'Private room in bus', 'Private room in chalet',\n",
       "       'Private room in island', 'Windmill', 'Private room in cave',\n",
       "       'Hotel room', 'Entire in-law', 'Private room in floor'],\n",
       "      dtype=object)"
      ]
     },
     "execution_count": 17,
     "metadata": {},
     "output_type": "execute_result"
    }
   ],
   "source": [
    "df['property_type']"
   ]
  },
  {
   "cell_type": "code",
   "execution_count": 19,
   "metadata": {},
   "outputs": [
    {
     "data": {
      "text/plain": [
       "0.02993098364575919"
      ]
     },
     "execution_count": 19,
     "metadata": {},
     "output_type": "execute_result"
    }
   ],
   "source": [
    "mdl = make_pipeline(\n",
    "    OneHotEncoder(handle_unknown='ignore'),\n",
    "    LinearRegression()\n",
    ")\n",
    "\n",
    "mdl.fit(df[['property_type']],df['review_scores_rating'])\n",
    "mdl.score(df[['property_type']],df['review_scores_rating'])\n",
    "# This is r^2 score, from bad (0) to perfect (1)"
   ]
  },
  {
   "cell_type": "markdown",
   "metadata": {},
   "source": [
    "### Feature 7: Room Type"
   ]
  },
  {
   "cell_type": "markdown",
   "metadata": {},
   "source": [
    "For `room_type` we did the same thing that we did above for `property_type`, however, this time for our r^2 score we got 0.009426732792224835 for `room_type`. This is substantially lower than our r^2 score for `property_type`, so much so, that we are not going to be using this feature as it seems to be playing a very minimal, almost negligible, role in helping our model predict a listing's review rating."
   ]
  },
  {
   "cell_type": "code",
   "execution_count": 23,
   "metadata": {},
   "outputs": [
    {
     "data": {
      "text/plain": [
       "room_type\n",
       "Entire home/apt    169923\n",
       "Private room        44957\n",
       "Shared room          1410\n",
       "Hotel room            881\n",
       "Name: count, dtype: int64"
      ]
     },
     "execution_count": 23,
     "metadata": {},
     "output_type": "execute_result"
    }
   ],
   "source": [
    "df.room_type.value_counts()"
   ]
  },
  {
   "cell_type": "code",
   "execution_count": 378,
   "metadata": {},
   "outputs": [
    {
     "data": {
      "text/plain": [
       "0.009426732792224835"
      ]
     },
     "execution_count": 378,
     "metadata": {},
     "output_type": "execute_result"
    }
   ],
   "source": [
    "mdl.fit(df[['room_type']],df['review_scores_rating'])\n",
    "mdl.score(df[['room_type']],df['review_scores_rating'])\n",
    "# This is r^2 score, from bad (0) to perfect (1)"
   ]
  },
  {
   "cell_type": "markdown",
   "metadata": {},
   "source": [
    "### Feature 8: Host Since"
   ]
  },
  {
   "cell_type": "markdown",
   "metadata": {},
   "source": [
    "For the feature `host_since` we have plotted, in the above graph, the number of weeks that a host has been on the platform on the x-axis versus the `review_scores_rating` feature on the y-axis. We can see a small, but not insignificant, positive correlation between the two, which indicates that the longer a host has been on the platform, the higher their review rating tends to be. For this reason, we are going to be keeping this feature as it is most likely going to help our model in predicting a listing's review rating based on the how long the host has been on the platform."
   ]
  },
  {
   "cell_type": "code",
   "execution_count": 400,
   "metadata": {},
   "outputs": [
    {
     "data": {
      "text/plain": [
       "count    217164.000000\n",
       "mean        378.767246\n",
       "std         173.662443\n",
       "min           5.285714\n",
       "25%         255.142857\n",
       "50%         405.000000\n",
       "75%         502.857143\n",
       "max         856.285714\n",
       "Name: host_since, dtype: float64"
      ]
     },
     "execution_count": 400,
     "metadata": {},
     "output_type": "execute_result"
    }
   ],
   "source": [
    "host_weeks = (pd.Timestamp('2024-07-31') - df['host_since']) / pd.Timedelta(weeks=1)\n",
    "host_weeks.describe()"
   ]
  },
  {
   "cell_type": "code",
   "execution_count": 401,
   "metadata": {},
   "outputs": [
    {
     "data": {
      "text/plain": [
       "<Axes: xlabel='host_since', ylabel='review_scores_rating'>"
      ]
     },
     "execution_count": 401,
     "metadata": {},
     "output_type": "execute_result"
    },
    {
     "data": {
      "image/png": "[encoded data removed]",
      "text/plain": [
       "<Figure size 640x480 with 1 Axes>"
      ]
     },
     "metadata": {},
     "output_type": "display_data"
    }
   ],
   "source": [
    "sns.regplot(\n",
    "    x=host_weeks,\n",
    "    y=df['review_scores_rating'],\n",
    "    line_kws=dict(color=\"orange\")\n",
    ")"
   ]
  },
  {
   "cell_type": "markdown",
   "metadata": {},
   "source": [
    "We make another sklearn transformer to more easily integrate this feature into our model."
   ]
  },
  {
   "cell_type": "code",
   "execution_count": 27,
   "metadata": {},
   "outputs": [],
   "source": [
    "class WeekTransformer(BaseEstimator, TransformerMixin):\n",
    "    def __init__(self):\n",
    "        pass\n",
    "\n",
    "    def fit(self, X, y=None):\n",
    "        return self\n",
    "    \n",
    "    def transform(self, X, y=None):\n",
    "        if isinstance(X, (pd.DataFrame)):\n",
    "            return pd.DataFrame((pd.Timestamp('2024-07-31') - X) / pd.Timedelta(weeks=1)).to_numpy()\n",
    "        elif isinstance(X, (pd.Series)):\n",
    "            return pd.DataFrame((pd.Timestamp('2024-07-31') - X) / pd.Timedelta(weeks=1)).to_numpy()\n",
    "        else:\n",
    "            raise ValueError(f\"Unsupported data type: {type(X)}\")"
   ]
  },
  {
   "cell_type": "code",
   "execution_count": 28,
   "metadata": {},
   "outputs": [
    {
     "data": {
      "text/plain": [
       "378.76724634706625"
      ]
     },
     "execution_count": 28,
     "metadata": {},
     "output_type": "execute_result"
    }
   ],
   "source": [
    "pl = WeekTransformer()\n",
    "pd.Series(pl.fit_transform(df['host_since']).ravel()).mean()"
   ]
  },
  {
   "cell_type": "markdown",
   "metadata": {},
   "source": [
    "### Feature 9: Host Response Time and Rate"
   ]
  },
  {
   "cell_type": "markdown",
   "metadata": {},
   "source": [
    "For `host_response_time`, as we did with `room_type` and `property_type`, we used this feature to train our model and then got an r^2 score, this time of 0.002128186367516438. Similar to `room_type` this is a very low r^2 score which indicates to us that this feature is not very relevant in our model's prediction of a listing's review rating, thus we are not going to be using this feature.\n",
    "\n",
    "This makes sense - there are only four classes of values in this column, and they don't tell us very much either. For example, a listing that is only popular in the summer may have a host that responds quickly in the summer, but does not even open AirBnb in the winter - such hosts may have a response time of a few days or more despite delivering highly rated listings."
   ]
  },
  {
   "cell_type": "code",
   "execution_count": 21,
   "metadata": {},
   "outputs": [
    {
     "data": {
      "text/plain": [
       "host_response_time\n",
       "within an hour        155557\n",
       "within a few hours     20263\n",
       "within a day            9249\n",
       "a few days or more      2939\n",
       "Name: count, dtype: int64"
      ]
     },
     "execution_count": 21,
     "metadata": {},
     "output_type": "execute_result"
    }
   ],
   "source": [
    "df['host_response_time'].value_counts()"
   ]
  },
  {
   "cell_type": "code",
   "execution_count": 385,
   "metadata": {},
   "outputs": [
    {
     "data": {
      "text/plain": [
       "0.002128186367516438"
      ]
     },
     "execution_count": 385,
     "metadata": {},
     "output_type": "execute_result"
    }
   ],
   "source": [
    "mdl.fit(df[['host_response_time']],df['review_scores_rating'])\n",
    "mdl.score(df[['host_response_time']],df['review_scores_rating'])"
   ]
  },
  {
   "cell_type": "markdown",
   "metadata": {},
   "source": [
    "### Feature 10: Host Profile Pic\n",
    "\n",
    "For `host_profile_pic`, as we did with `room_type`, `property_type`, and `host_response_time`, we used this feature to train our model and then got an r^2 score, this time of 0.0006544772136575228. Similar to `room_type` this is a very low r^2 score which indicates to us that this feature is not very relevant in our model's prediction of a listing's review rating, thus we are not going to be using this feature."
   ]
  },
  {
   "cell_type": "code",
   "execution_count": 409,
   "metadata": {},
   "outputs": [
    {
     "data": {
      "text/plain": [
       "host_has_profile_pic\n",
       "True     214390\n",
       "False      2774\n",
       "Name: count, dtype: int64"
      ]
     },
     "execution_count": 409,
     "metadata": {},
     "output_type": "execute_result"
    }
   ],
   "source": [
    "df['host_has_profile_pic'].value_counts()"
   ]
  },
  {
   "cell_type": "code",
   "execution_count": 410,
   "metadata": {},
   "outputs": [
    {
     "data": {
      "text/plain": [
       "0.0006544772136575228"
      ]
     },
     "execution_count": 410,
     "metadata": {},
     "output_type": "execute_result"
    }
   ],
   "source": [
    "mdl.fit(df[['host_has_profile_pic']],df['review_scores_rating'])\n",
    "mdl.score(df[['host_has_profile_pic']],df['review_scores_rating'])"
   ]
  },
  {
   "cell_type": "markdown",
   "metadata": {},
   "source": [
    "## Regression Model"
   ]
  },
  {
   "cell_type": "markdown",
   "metadata": {},
   "source": [
    "### Choosing a First Model\n",
    "\n",
    "At this point, we have two groups of features:\n",
    "- Categorical Columns, encoded into some sort of numerical feature as described in the previous section.\n",
    "- Numerical Columns, which is essentially every other feature in our dataset.\n",
    "\n",
    "We plan to put all of these features into a LinearRegression model from sklearn. There are three main reasons a LinearRegression model is ideal for our base model:\n",
    "1. It is relatively simple, and features almost entirely dictate how well the model performs. This allows us to focus on enginnering good, relevant features for our second, more complicated model.\n",
    "2. LinearRegression allows us to check the coefficient of every variable, and when standardized or normalized, a sense of which features play the largest role in determining the review score.\n",
    "3. It is extremely fast and easy to implement LinearRegression, allowing us to test many different features and encodings quickly.\n",
    "\n",
    "As such, let's begin by creating a sklearn preprocessor for our data."
   ]
  },
  {
   "cell_type": "code",
   "execution_count": 29,
   "metadata": {},
   "outputs": [],
   "source": [
    "review_cols = [\n",
    "    'review_scores_rating',\n",
    "    'review_scores_accuracy',\n",
    "    'review_scores_cleanliness',\n",
    "    'review_scores_checkin',\n",
    "    'review_scores_communication',\n",
    "    'review_scores_location',\n",
    "    'review_scores_value'\n",
    "]"
   ]
  },
  {
   "cell_type": "code",
   "execution_count": 30,
   "metadata": {},
   "outputs": [],
   "source": [
    "numeric_features = df.drop(columns=review_cols+['host_since']).select_dtypes(np.number).columns"
   ]
  },
  {
   "cell_type": "code",
   "execution_count": 31,
   "metadata": {},
   "outputs": [],
   "source": [
    "preproc = make_column_transformer(\n",
    "    (SubstringsTransformer(names_meaningful), 'name'),\n",
    "    (SubstringsTransformer(desc_meaningful), 'description'),\n",
    "    (WeekTransformer(), 'host_since'),\n",
    "    (LengthTransformer(), 'host_verifications'),\n",
    "    (OneHotEncoder(handle_unknown='ignore'), ['property_type']),\n",
    "    (OneHotEncoder(handle_unknown='ignore'), ['room_type']),\n",
    "    (LengthTransformer(), 'amenities'),\n",
    "    (StandardScaler(), numeric_features)\n",
    ")"
   ]
  },
  {
   "cell_type": "markdown",
   "metadata": {},
   "source": [
    "The above preprocessor simply applies the given transformer to the columns on the second item in the tuple. As such, all that is left to do is to put this preprocessor into a pipeline alongside our model. Note however, that sklearn cannot support missing values, and so we will conduct mean imputation for these missing values. This is because LinearRegression (based on minimizing mean_square_error) will not get any better nor any worse if a data point with all mean values is added or removed from the dataset."
   ]
  },
  {
   "cell_type": "code",
   "execution_count": 32,
   "metadata": {},
   "outputs": [],
   "source": [
    "model = make_pipeline(\n",
    "    preproc, \n",
    "    SimpleImputer(strategy='mean'),\n",
    "    LinearRegression()\n",
    ")"
   ]
  },
  {
   "cell_type": "markdown",
   "metadata": {},
   "source": [
    "### Model Evaluation"
   ]
  },
  {
   "cell_type": "markdown",
   "metadata": {},
   "source": [
    "We now do 10-fold cross validaton and report the metrics for each fold."
   ]
  },
  {
   "cell_type": "code",
   "execution_count": 33,
   "metadata": {},
   "outputs": [],
   "source": [
    "from sklearn.model_selection import KFold\n",
    "from sklearn.metrics import mean_squared_error, r2_score, mean_absolute_error\n",
    "\n",
    "X = df.drop(columns=review_cols)\n",
    "y = df['review_scores_rating']\n",
    "\n",
    "scores = {}\n",
    "\n",
    "kf = KFold(n_splits=10, shuffle=True, random_state=42)\n",
    "for i, (train_index, test_index) in enumerate(kf.split(X)):\n",
    "\n",
    "    X_train_fold, X_test_fold = X.iloc[train_index], X.iloc[test_index]\n",
    "    y_train_fold, y_test_fold = y.iloc[train_index], y.iloc[test_index]\n",
    "\n",
    "    model.fit(X_train_fold, y_train_fold)\n",
    "    y_train_pred_fold = model.predict(X_train_fold)\n",
    "    y_test_pred_fold = model.predict(X_test_fold)\n",
    "    \n",
    "    scores[i] = {}\n",
    "    scores[i]['train'] = {\n",
    "        'mean_squared_error': mean_squared_error(y_train_fold, y_train_pred_fold),\n",
    "        'mean_absolute_error': mean_absolute_error(y_train_fold, y_train_pred_fold),\n",
    "        'r2_score': r2_score(y_train_fold, y_train_pred_fold)\n",
    "    }\n",
    "    scores[i]['test'] = {\n",
    "        'mean_squared_error': mean_squared_error(y_test_fold, y_test_pred_fold),\n",
    "        'mean_absolute_error': mean_absolute_error(y_test_fold, y_test_pred_fold),\n",
    "        'r2_score': r2_score(y_test_fold, y_test_pred_fold)\n",
    "    }"
   ]
  },
  {
   "cell_type": "markdown",
   "metadata": {},
   "source": [
    "We have the mse, mae, and r2 for the test and train of each fold. Here, we display the average of each category as well as all the values to show that this model, though not very good, generalizes well across the data."
   ]
  },
  {
   "cell_type": "code",
   "execution_count": 40,
   "metadata": {},
   "outputs": [
    {
     "data": {
      "text/html": [
       "<div>\n",
       "<style scoped>\n",
       "    .dataframe tbody tr th:only-of-type {\n",
       "        vertical-align: middle;\n",
       "    }\n",
       "\n",
       "    .dataframe tbody tr th {\n",
       "        vertical-align: top;\n",
       "    }\n",
       "\n",
       "    .dataframe thead th {\n",
       "        text-align: right;\n",
       "    }\n",
       "</style>\n",
       "<table border=\"1\" class=\"dataframe\">\n",
       "  <thead>\n",
       "    <tr style=\"text-align: right;\">\n",
       "      <th></th>\n",
       "      <th></th>\n",
       "      <th>mean_squared_error</th>\n",
       "      <th>mean_absolute_error</th>\n",
       "      <th>r2_score</th>\n",
       "    </tr>\n",
       "  </thead>\n",
       "  <tbody>\n",
       "    <tr>\n",
       "      <th rowspan=\"2\" valign=\"top\">0</th>\n",
       "      <th>train</th>\n",
       "      <td>0.126130</td>\n",
       "      <td>0.198191</td>\n",
       "      <td>0.087947</td>\n",
       "    </tr>\n",
       "    <tr>\n",
       "      <th>test</th>\n",
       "      <td>0.130564</td>\n",
       "      <td>0.200480</td>\n",
       "      <td>0.085520</td>\n",
       "    </tr>\n",
       "    <tr>\n",
       "      <th rowspan=\"2\" valign=\"top\">1</th>\n",
       "      <th>train</th>\n",
       "      <td>0.127414</td>\n",
       "      <td>0.199016</td>\n",
       "      <td>0.087206</td>\n",
       "    </tr>\n",
       "    <tr>\n",
       "      <th>test</th>\n",
       "      <td>0.118979</td>\n",
       "      <td>0.195752</td>\n",
       "      <td>0.092482</td>\n",
       "    </tr>\n",
       "    <tr>\n",
       "      <th rowspan=\"2\" valign=\"top\">2</th>\n",
       "      <th>train</th>\n",
       "      <td>0.126681</td>\n",
       "      <td>0.198671</td>\n",
       "      <td>0.087563</td>\n",
       "    </tr>\n",
       "    <tr>\n",
       "      <th>test</th>\n",
       "      <td>0.125549</td>\n",
       "      <td>0.196630</td>\n",
       "      <td>0.089308</td>\n",
       "    </tr>\n",
       "    <tr>\n",
       "      <th rowspan=\"2\" valign=\"top\">3</th>\n",
       "      <th>train</th>\n",
       "      <td>0.127029</td>\n",
       "      <td>0.198596</td>\n",
       "      <td>0.087552</td>\n",
       "    </tr>\n",
       "    <tr>\n",
       "      <th>test</th>\n",
       "      <td>0.123754</td>\n",
       "      <td>0.197797</td>\n",
       "      <td>0.079530</td>\n",
       "    </tr>\n",
       "    <tr>\n",
       "      <th rowspan=\"2\" valign=\"top\">4</th>\n",
       "      <th>train</th>\n",
       "      <td>0.126899</td>\n",
       "      <td>0.198766</td>\n",
       "      <td>0.088065</td>\n",
       "    </tr>\n",
       "    <tr>\n",
       "      <th>test</th>\n",
       "      <td>0.123835</td>\n",
       "      <td>0.196832</td>\n",
       "      <td>0.082805</td>\n",
       "    </tr>\n",
       "    <tr>\n",
       "      <th rowspan=\"2\" valign=\"top\">5</th>\n",
       "      <th>train</th>\n",
       "      <td>0.125540</td>\n",
       "      <td>0.197758</td>\n",
       "      <td>0.088104</td>\n",
       "    </tr>\n",
       "    <tr>\n",
       "      <th>test</th>\n",
       "      <td>0.135944</td>\n",
       "      <td>0.203179</td>\n",
       "      <td>0.083654</td>\n",
       "    </tr>\n",
       "    <tr>\n",
       "      <th rowspan=\"2\" valign=\"top\">6</th>\n",
       "      <th>train</th>\n",
       "      <td>0.126947</td>\n",
       "      <td>0.198569</td>\n",
       "      <td>0.087876</td>\n",
       "    </tr>\n",
       "    <tr>\n",
       "      <th>test</th>\n",
       "      <td>0.123132</td>\n",
       "      <td>0.198147</td>\n",
       "      <td>0.086635</td>\n",
       "    </tr>\n",
       "    <tr>\n",
       "      <th rowspan=\"2\" valign=\"top\">7</th>\n",
       "      <th>train</th>\n",
       "      <td>0.126227</td>\n",
       "      <td>0.198311</td>\n",
       "      <td>0.087430</td>\n",
       "    </tr>\n",
       "    <tr>\n",
       "      <th>test</th>\n",
       "      <td>0.129676</td>\n",
       "      <td>0.198832</td>\n",
       "      <td>0.090059</td>\n",
       "    </tr>\n",
       "    <tr>\n",
       "      <th rowspan=\"2\" valign=\"top\">8</th>\n",
       "      <th>train</th>\n",
       "      <td>0.126344</td>\n",
       "      <td>0.198277</td>\n",
       "      <td>0.087910</td>\n",
       "    </tr>\n",
       "    <tr>\n",
       "      <th>test</th>\n",
       "      <td>0.128622</td>\n",
       "      <td>0.199914</td>\n",
       "      <td>0.085905</td>\n",
       "    </tr>\n",
       "    <tr>\n",
       "      <th rowspan=\"2\" valign=\"top\">9</th>\n",
       "      <th>train</th>\n",
       "      <td>0.126359</td>\n",
       "      <td>0.198572</td>\n",
       "      <td>0.088499</td>\n",
       "    </tr>\n",
       "    <tr>\n",
       "      <th>test</th>\n",
       "      <td>0.128394</td>\n",
       "      <td>0.198563</td>\n",
       "      <td>0.081268</td>\n",
       "    </tr>\n",
       "  </tbody>\n",
       "</table>\n",
       "</div>"
      ],
      "text/plain": [
       "         mean_squared_error  mean_absolute_error  r2_score\n",
       "0 train            0.126130             0.198191  0.087947\n",
       "  test             0.130564             0.200480  0.085520\n",
       "1 train            0.127414             0.199016  0.087206\n",
       "  test             0.118979             0.195752  0.092482\n",
       "2 train            0.126681             0.198671  0.087563\n",
       "  test             0.125549             0.196630  0.089308\n",
       "3 train            0.127029             0.198596  0.087552\n",
       "  test             0.123754             0.197797  0.079530\n",
       "4 train            0.126899             0.198766  0.088065\n",
       "  test             0.123835             0.196832  0.082805\n",
       "5 train            0.125540             0.197758  0.088104\n",
       "  test             0.135944             0.203179  0.083654\n",
       "6 train            0.126947             0.198569  0.087876\n",
       "  test             0.123132             0.198147  0.086635\n",
       "7 train            0.126227             0.198311  0.087430\n",
       "  test             0.129676             0.198832  0.090059\n",
       "8 train            0.126344             0.198277  0.087910\n",
       "  test             0.128622             0.199914  0.085905\n",
       "9 train            0.126359             0.198572  0.088499\n",
       "  test             0.128394             0.198563  0.081268"
      ]
     },
     "execution_count": 40,
     "metadata": {},
     "output_type": "execute_result"
    }
   ],
   "source": [
    "scores_df = pd.DataFrame.from_dict(\n",
    "    {(i, k): scores[i][k]\n",
    "    for i in scores.keys()\n",
    "    for k in scores[i].keys()},\n",
    "    orient='index'\n",
    ")\n",
    "scores_df"
   ]
  },
  {
   "cell_type": "code",
   "execution_count": 42,
   "metadata": {},
   "outputs": [
    {
     "data": {
      "text/html": [
       "<div>\n",
       "<style scoped>\n",
       "    .dataframe tbody tr th:only-of-type {\n",
       "        vertical-align: middle;\n",
       "    }\n",
       "\n",
       "    .dataframe tbody tr th {\n",
       "        vertical-align: top;\n",
       "    }\n",
       "\n",
       "    .dataframe thead th {\n",
       "        text-align: right;\n",
       "    }\n",
       "</style>\n",
       "<table border=\"1\" class=\"dataframe\">\n",
       "  <thead>\n",
       "    <tr style=\"text-align: right;\">\n",
       "      <th></th>\n",
       "      <th>mean_squared_error</th>\n",
       "      <th>mean_absolute_error</th>\n",
       "      <th>r2_score</th>\n",
       "    </tr>\n",
       "  </thead>\n",
       "  <tbody>\n",
       "    <tr>\n",
       "      <th>test</th>\n",
       "      <td>0.126845</td>\n",
       "      <td>0.198613</td>\n",
       "      <td>0.085717</td>\n",
       "    </tr>\n",
       "    <tr>\n",
       "      <th>train</th>\n",
       "      <td>0.126557</td>\n",
       "      <td>0.198473</td>\n",
       "      <td>0.087815</td>\n",
       "    </tr>\n",
       "  </tbody>\n",
       "</table>\n",
       "</div>"
      ],
      "text/plain": [
       "       mean_squared_error  mean_absolute_error  r2_score\n",
       "test             0.126845             0.198613  0.085717\n",
       "train            0.126557             0.198473  0.087815"
      ]
     },
     "execution_count": 42,
     "metadata": {},
     "output_type": "execute_result"
    }
   ],
   "source": [
    "average_df = scores_df.groupby(level=1).mean()\n",
    "average_df"
   ]
  },
  {
   "cell_type": "markdown",
   "metadata": {},
   "source": [
    "We will now interpret the above metrics in more detail. We start with the `mean_absolute_error`, which tells us that on average our predicted rating is 0.19 off for both the test and train cases. The similarity between these values tell us that our model has not overfitted, but the large values (considering review ratings go from 0 to 5 only) show us that the model is not very good.\n",
    "\n",
    "Same can be said for our `mean_squared_error`. We note that its value is smaller than the `mean_absolute_error`, which makes sense as it is roughly the square root of the `mean_absolute_error`.\n",
    "\n",
    "The `r2_score` however tells a very interesting story. The `r2_score` is a correlation metric that goes from 0 to 1, where 0 implies no correlation and 1 is identical correlation. Our low value of 0.08 tells us that despite the large number of features, we still have not effectively represented the data. This makes sense - it is very hard to even describe in words what would make one AirBnb listing more highly rated than the other. However, this also gives us plenty of room to improve in our second model."
   ]
  },
  {
   "cell_type": "markdown",
   "metadata": {},
   "source": [
    "### Model on Fitting Graph\n",
    "\n",
    "Based on our relatively high MSE, and generally almost identical test and train MSE, MAE, and r2, it is safe to say that our model is not that far along the fitting graph. In other words, our model has not overfitted the data since we see very similar values between the test and train metrics. This is very good for us, as there is much room to add more model complexity - such as by adding more features, or changing to a more complex model - and improve the metrics in our second, better model.\n",
    "\n",
    "To further drive this point, we print out the differences between the test and train for every fold and every metric."
   ]
  },
  {
   "cell_type": "code",
   "execution_count": 49,
   "metadata": {},
   "outputs": [
    {
     "data": {
      "text/html": [
       "<div>\n",
       "<style scoped>\n",
       "    .dataframe tbody tr th:only-of-type {\n",
       "        vertical-align: middle;\n",
       "    }\n",
       "\n",
       "    .dataframe tbody tr th {\n",
       "        vertical-align: top;\n",
       "    }\n",
       "\n",
       "    .dataframe thead th {\n",
       "        text-align: right;\n",
       "    }\n",
       "</style>\n",
       "<table border=\"1\" class=\"dataframe\">\n",
       "  <thead>\n",
       "    <tr style=\"text-align: right;\">\n",
       "      <th></th>\n",
       "      <th>mean_squared_error</th>\n",
       "      <th>mean_absolute_error</th>\n",
       "      <th>r2_score</th>\n",
       "    </tr>\n",
       "  </thead>\n",
       "  <tbody>\n",
       "    <tr>\n",
       "      <th>0</th>\n",
       "      <td>-0.004434</td>\n",
       "      <td>-0.002290</td>\n",
       "      <td>0.002427</td>\n",
       "    </tr>\n",
       "    <tr>\n",
       "      <th>1</th>\n",
       "      <td>0.008435</td>\n",
       "      <td>0.003265</td>\n",
       "      <td>-0.005276</td>\n",
       "    </tr>\n",
       "    <tr>\n",
       "      <th>2</th>\n",
       "      <td>0.001132</td>\n",
       "      <td>0.002041</td>\n",
       "      <td>-0.001744</td>\n",
       "    </tr>\n",
       "    <tr>\n",
       "      <th>3</th>\n",
       "      <td>0.003275</td>\n",
       "      <td>0.000799</td>\n",
       "      <td>0.008021</td>\n",
       "    </tr>\n",
       "    <tr>\n",
       "      <th>4</th>\n",
       "      <td>0.003064</td>\n",
       "      <td>0.001934</td>\n",
       "      <td>0.005260</td>\n",
       "    </tr>\n",
       "    <tr>\n",
       "      <th>5</th>\n",
       "      <td>-0.010404</td>\n",
       "      <td>-0.005421</td>\n",
       "      <td>0.004450</td>\n",
       "    </tr>\n",
       "    <tr>\n",
       "      <th>6</th>\n",
       "      <td>0.003814</td>\n",
       "      <td>0.000422</td>\n",
       "      <td>0.001241</td>\n",
       "    </tr>\n",
       "    <tr>\n",
       "      <th>7</th>\n",
       "      <td>-0.003449</td>\n",
       "      <td>-0.000521</td>\n",
       "      <td>-0.002629</td>\n",
       "    </tr>\n",
       "    <tr>\n",
       "      <th>8</th>\n",
       "      <td>-0.002278</td>\n",
       "      <td>-0.001637</td>\n",
       "      <td>0.002005</td>\n",
       "    </tr>\n",
       "    <tr>\n",
       "      <th>9</th>\n",
       "      <td>-0.002035</td>\n",
       "      <td>0.000009</td>\n",
       "      <td>0.007232</td>\n",
       "    </tr>\n",
       "  </tbody>\n",
       "</table>\n",
       "</div>"
      ],
      "text/plain": [
       "   mean_squared_error  mean_absolute_error  r2_score\n",
       "0           -0.004434            -0.002290  0.002427\n",
       "1            0.008435             0.003265 -0.005276\n",
       "2            0.001132             0.002041 -0.001744\n",
       "3            0.003275             0.000799  0.008021\n",
       "4            0.003064             0.001934  0.005260\n",
       "5           -0.010404            -0.005421  0.004450\n",
       "6            0.003814             0.000422  0.001241\n",
       "7           -0.003449            -0.000521 -0.002629\n",
       "8           -0.002278            -0.001637  0.002005\n",
       "9           -0.002035             0.000009  0.007232"
      ]
     },
     "execution_count": 49,
     "metadata": {},
     "output_type": "execute_result"
    }
   ],
   "source": [
    "difference_df = scores_df.xs('train', level=1) - scores_df.xs('test', level=1)\n",
    "difference_df.index = pd.MultiIndex.from_product([difference_df.index])\n",
    "difference_df"
   ]
  },
  {
   "cell_type": "code",
   "execution_count": 54,
   "metadata": {},
   "outputs": [
    {
     "data": {
      "text/plain": [
       "mean_squared_error    -0.000288\n",
       "mean_absolute_error   -0.000140\n",
       "r2_score               0.002099\n",
       "dtype: float64"
      ]
     },
     "execution_count": 54,
     "metadata": {},
     "output_type": "execute_result"
    }
   ],
   "source": [
    "average_difference_df = difference_df.mean()\n",
    "average_difference_df"
   ]
  },
  {
   "cell_type": "markdown",
   "metadata": {},
   "source": [
    "Indeed, the difference is very small and thus it supports our claim."
   ]
  },
  {
   "cell_type": "markdown",
   "metadata": {},
   "source": [
    "### Coefficient Analysis"
   ]
  },
  {
   "cell_type": "markdown",
   "metadata": {},
   "source": [
    "To better visualize our model, we create the following diagram of sklearn transformers that go into our Linear Regression."
   ]
  },
  {
   "cell_type": "code",
   "execution_count": 44,
   "metadata": {},
   "outputs": [
    {
     "data": {
      "text/html": [
       "<style>#sk-container-id-1 {\n",
       "  /* Definition of color scheme common for light and dark mode */\n",
       "  --sklearn-color-text: black;\n",
       "  --sklearn-color-line: gray;\n",
       "  /* Definition of color scheme for unfitted estimators */\n",
       "  --sklearn-color-unfitted-level-0: #fff5e6;\n",
       "  --sklearn-color-unfitted-level-1: #f6e4d2;\n",
       "  --sklearn-color-unfitted-level-2: #ffe0b3;\n",
       "  --sklearn-color-unfitted-level-3: chocolate;\n",
       "  /* Definition of color scheme for fitted estimators */\n",
       "  --sklearn-color-fitted-level-0: #f0f8ff;\n",
       "  --sklearn-color-fitted-level-1: #d4ebff;\n",
       "  --sklearn-color-fitted-level-2: #b3dbfd;\n",
       "  --sklearn-color-fitted-level-3: cornflowerblue;\n",
       "\n",
       "  /* Specific color for light theme */\n",
       "  --sklearn-color-text-on-default-background: var(--sg-text-color, var(--theme-code-foreground, var(--jp-content-font-color1, black)));\n",
       "  --sklearn-color-background: var(--sg-background-color, var(--theme-background, var(--jp-layout-color0, white)));\n",
       "  --sklearn-color-border-box: var(--sg-text-color, var(--theme-code-foreground, var(--jp-content-font-color1, black)));\n",
       "  --sklearn-color-icon: #696969;\n",
       "\n",
       "  @media (prefers-color-scheme: dark) {\n",
       "    /* Redefinition of color scheme for dark theme */\n",
       "    --sklearn-color-text-on-default-background: var(--sg-text-color, var(--theme-code-foreground, var(--jp-content-font-color1, white)));\n",
       "    --sklearn-color-background: var(--sg-background-color, var(--theme-background, var(--jp-layout-color0, #111)));\n",
       "    --sklearn-color-border-box: var(--sg-text-color, var(--theme-code-foreground, var(--jp-content-font-color1, white)));\n",
       "    --sklearn-color-icon: #878787;\n",
       "  }\n",
       "}\n",
       "\n",
       "#sk-container-id-1 {\n",
       "  color: var(--sklearn-color-text);\n",
       "}\n",
       "\n",
       "#sk-container-id-1 pre {\n",
       "  padding: 0;\n",
       "}\n",
       "\n",
       "#sk-container-id-1 input.sk-hidden--visually {\n",
       "  border: 0;\n",
       "  clip: rect(1px 1px 1px 1px);\n",
       "  clip: rect(1px, 1px, 1px, 1px);\n",
       "  height: 1px;\n",
       "  margin: -1px;\n",
       "  overflow: hidden;\n",
       "  padding: 0;\n",
       "  position: absolute;\n",
       "  width: 1px;\n",
       "}\n",
       "\n",
       "#sk-container-id-1 div.sk-dashed-wrapped {\n",
       "  border: 1px dashed var(--sklearn-color-line);\n",
       "  margin: 0 0.4em 0.5em 0.4em;\n",
       "  box-sizing: border-box;\n",
       "  padding-bottom: 0.4em;\n",
       "  background-color: var(--sklearn-color-background);\n",
       "}\n",
       "\n",
       "#sk-container-id-1 div.sk-container {\n",
       "  /* jupyter's `normalize.less` sets `[hidden] { display: none; }`\n",
       "     but bootstrap.min.css set `[hidden] { display: none !important; }`\n",
       "     so we also need the `!important` here to be able to override the\n",
       "     default hidden behavior on the sphinx rendered scikit-learn.org.\n",
       "     See: https://github.com/scikit-learn/scikit-learn/issues/21755 */\n",
       "  display: inline-block !important;\n",
       "  position: relative;\n",
       "}\n",
       "\n",
       "#sk-container-id-1 div.sk-text-repr-fallback {\n",
       "  display: none;\n",
       "}\n",
       "\n",
       "div.sk-parallel-item,\n",
       "div.sk-serial,\n",
       "div.sk-item {\n",
       "  /* draw centered vertical line to link estimators */\n",
       "  background-image: linear-gradient(var(--sklearn-color-text-on-default-background), var(--sklearn-color-text-on-default-background));\n",
       "  background-size: 2px 100%;\n",
       "  background-repeat: no-repeat;\n",
       "  background-position: center center;\n",
       "}\n",
       "\n",
       "/* Parallel-specific style estimator block */\n",
       "\n",
       "#sk-container-id-1 div.sk-parallel-item::after {\n",
       "  content: \"\";\n",
       "  width: 100%;\n",
       "  border-bottom: 2px solid var(--sklearn-color-text-on-default-background);\n",
       "  flex-grow: 1;\n",
       "}\n",
       "\n",
       "#sk-container-id-1 div.sk-parallel {\n",
       "  display: flex;\n",
       "  align-items: stretch;\n",
       "  justify-content: center;\n",
       "  background-color: var(--sklearn-color-background);\n",
       "  position: relative;\n",
       "}\n",
       "\n",
       "#sk-container-id-1 div.sk-parallel-item {\n",
       "  display: flex;\n",
       "  flex-direction: column;\n",
       "}\n",
       "\n",
       "#sk-container-id-1 div.sk-parallel-item:first-child::after {\n",
       "  align-self: flex-end;\n",
       "  width: 50%;\n",
       "}\n",
       "\n",
       "#sk-container-id-1 div.sk-parallel-item:last-child::after {\n",
       "  align-self: flex-start;\n",
       "  width: 50%;\n",
       "}\n",
       "\n",
       "#sk-container-id-1 div.sk-parallel-item:only-child::after {\n",
       "  width: 0;\n",
       "}\n",
       "\n",
       "/* Serial-specific style estimator block */\n",
       "\n",
       "#sk-container-id-1 div.sk-serial {\n",
       "  display: flex;\n",
       "  flex-direction: column;\n",
       "  align-items: center;\n",
       "  background-color: var(--sklearn-color-background);\n",
       "  padding-right: 1em;\n",
       "  padding-left: 1em;\n",
       "}\n",
       "\n",
       "\n",
       "/* Toggleable style: style used for estimator/Pipeline/ColumnTransformer box that is\n",
       "clickable and can be expanded/collapsed.\n",
       "- Pipeline and ColumnTransformer use this feature and define the default style\n",
       "- Estimators will overwrite some part of the style using the `sk-estimator` class\n",
       "*/\n",
       "\n",
       "/* Pipeline and ColumnTransformer style (default) */\n",
       "\n",
       "#sk-container-id-1 div.sk-toggleable {\n",
       "  /* Default theme specific background. It is overwritten whether we have a\n",
       "  specific estimator or a Pipeline/ColumnTransformer */\n",
       "  background-color: var(--sklearn-color-background);\n",
       "}\n",
       "\n",
       "/* Toggleable label */\n",
       "#sk-container-id-1 label.sk-toggleable__label {\n",
       "  cursor: pointer;\n",
       "  display: block;\n",
       "  width: 100%;\n",
       "  margin-bottom: 0;\n",
       "  padding: 0.5em;\n",
       "  box-sizing: border-box;\n",
       "  text-align: center;\n",
       "}\n",
       "\n",
       "#sk-container-id-1 label.sk-toggleable__label-arrow:before {\n",
       "  /* Arrow on the left of the label */\n",
       "  content: \"▸\";\n",
       "  float: left;\n",
       "  margin-right: 0.25em;\n",
       "  color: var(--sklearn-color-icon);\n",
       "}\n",
       "\n",
       "#sk-container-id-1 label.sk-toggleable__label-arrow:hover:before {\n",
       "  color: var(--sklearn-color-text);\n",
       "}\n",
       "\n",
       "/* Toggleable content - dropdown */\n",
       "\n",
       "#sk-container-id-1 div.sk-toggleable__content {\n",
       "  max-height: 0;\n",
       "  max-width: 0;\n",
       "  overflow: hidden;\n",
       "  text-align: left;\n",
       "  /* unfitted */\n",
       "  background-color: var(--sklearn-color-unfitted-level-0);\n",
       "}\n",
       "\n",
       "#sk-container-id-1 div.sk-toggleable__content.fitted {\n",
       "  /* fitted */\n",
       "  background-color: var(--sklearn-color-fitted-level-0);\n",
       "}\n",
       "\n",
       "#sk-container-id-1 div.sk-toggleable__content pre {\n",
       "  margin: 0.2em;\n",
       "  border-radius: 0.25em;\n",
       "  color: var(--sklearn-color-text);\n",
       "  /* unfitted */\n",
       "  background-color: var(--sklearn-color-unfitted-level-0);\n",
       "}\n",
       "\n",
       "#sk-container-id-1 div.sk-toggleable__content.fitted pre {\n",
       "  /* unfitted */\n",
       "  background-color: var(--sklearn-color-fitted-level-0);\n",
       "}\n",
       "\n",
       "#sk-container-id-1 input.sk-toggleable__control:checked~div.sk-toggleable__content {\n",
       "  /* Expand drop-down */\n",
       "  max-height: 200px;\n",
       "  max-width: 100%;\n",
       "  overflow: auto;\n",
       "}\n",
       "\n",
       "#sk-container-id-1 input.sk-toggleable__control:checked~label.sk-toggleable__label-arrow:before {\n",
       "  content: \"▾\";\n",
       "}\n",
       "\n",
       "/* Pipeline/ColumnTransformer-specific style */\n",
       "\n",
       "#sk-container-id-1 div.sk-label input.sk-toggleable__control:checked~label.sk-toggleable__label {\n",
       "  color: var(--sklearn-color-text);\n",
       "  background-color: var(--sklearn-color-unfitted-level-2);\n",
       "}\n",
       "\n",
       "#sk-container-id-1 div.sk-label.fitted input.sk-toggleable__control:checked~label.sk-toggleable__label {\n",
       "  background-color: var(--sklearn-color-fitted-level-2);\n",
       "}\n",
       "\n",
       "/* Estimator-specific style */\n",
       "\n",
       "/* Colorize estimator box */\n",
       "#sk-container-id-1 div.sk-estimator input.sk-toggleable__control:checked~label.sk-toggleable__label {\n",
       "  /* unfitted */\n",
       "  background-color: var(--sklearn-color-unfitted-level-2);\n",
       "}\n",
       "\n",
       "#sk-container-id-1 div.sk-estimator.fitted input.sk-toggleable__control:checked~label.sk-toggleable__label {\n",
       "  /* fitted */\n",
       "  background-color: var(--sklearn-color-fitted-level-2);\n",
       "}\n",
       "\n",
       "#sk-container-id-1 div.sk-label label.sk-toggleable__label,\n",
       "#sk-container-id-1 div.sk-label label {\n",
       "  /* The background is the default theme color */\n",
       "  color: var(--sklearn-color-text-on-default-background);\n",
       "}\n",
       "\n",
       "/* On hover, darken the color of the background */\n",
       "#sk-container-id-1 div.sk-label:hover label.sk-toggleable__label {\n",
       "  color: var(--sklearn-color-text);\n",
       "  background-color: var(--sklearn-color-unfitted-level-2);\n",
       "}\n",
       "\n",
       "/* Label box, darken color on hover, fitted */\n",
       "#sk-container-id-1 div.sk-label.fitted:hover label.sk-toggleable__label.fitted {\n",
       "  color: var(--sklearn-color-text);\n",
       "  background-color: var(--sklearn-color-fitted-level-2);\n",
       "}\n",
       "\n",
       "/* Estimator label */\n",
       "\n",
       "#sk-container-id-1 div.sk-label label {\n",
       "  font-family: monospace;\n",
       "  font-weight: bold;\n",
       "  display: inline-block;\n",
       "  line-height: 1.2em;\n",
       "}\n",
       "\n",
       "#sk-container-id-1 div.sk-label-container {\n",
       "  text-align: center;\n",
       "}\n",
       "\n",
       "/* Estimator-specific */\n",
       "#sk-container-id-1 div.sk-estimator {\n",
       "  font-family: monospace;\n",
       "  border: 1px dotted var(--sklearn-color-border-box);\n",
       "  border-radius: 0.25em;\n",
       "  box-sizing: border-box;\n",
       "  margin-bottom: 0.5em;\n",
       "  /* unfitted */\n",
       "  background-color: var(--sklearn-color-unfitted-level-0);\n",
       "}\n",
       "\n",
       "#sk-container-id-1 div.sk-estimator.fitted {\n",
       "  /* fitted */\n",
       "  background-color: var(--sklearn-color-fitted-level-0);\n",
       "}\n",
       "\n",
       "/* on hover */\n",
       "#sk-container-id-1 div.sk-estimator:hover {\n",
       "  /* unfitted */\n",
       "  background-color: var(--sklearn-color-unfitted-level-2);\n",
       "}\n",
       "\n",
       "#sk-container-id-1 div.sk-estimator.fitted:hover {\n",
       "  /* fitted */\n",
       "  background-color: var(--sklearn-color-fitted-level-2);\n",
       "}\n",
       "\n",
       "/* Specification for estimator info (e.g. \"i\" and \"?\") */\n",
       "\n",
       "/* Common style for \"i\" and \"?\" */\n",
       "\n",
       ".sk-estimator-doc-link,\n",
       "a:link.sk-estimator-doc-link,\n",
       "a:visited.sk-estimator-doc-link {\n",
       "  float: right;\n",
       "  font-size: smaller;\n",
       "  line-height: 1em;\n",
       "  font-family: monospace;\n",
       "  background-color: var(--sklearn-color-background);\n",
       "  border-radius: 1em;\n",
       "  height: 1em;\n",
       "  width: 1em;\n",
       "  text-decoration: none !important;\n",
       "  margin-left: 1ex;\n",
       "  /* unfitted */\n",
       "  border: var(--sklearn-color-unfitted-level-1) 1pt solid;\n",
       "  color: var(--sklearn-color-unfitted-level-1);\n",
       "}\n",
       "\n",
       ".sk-estimator-doc-link.fitted,\n",
       "a:link.sk-estimator-doc-link.fitted,\n",
       "a:visited.sk-estimator-doc-link.fitted {\n",
       "  /* fitted */\n",
       "  border: var(--sklearn-color-fitted-level-1) 1pt solid;\n",
       "  color: var(--sklearn-color-fitted-level-1);\n",
       "}\n",
       "\n",
       "/* On hover */\n",
       "div.sk-estimator:hover .sk-estimator-doc-link:hover,\n",
       ".sk-estimator-doc-link:hover,\n",
       "div.sk-label-container:hover .sk-estimator-doc-link:hover,\n",
       ".sk-estimator-doc-link:hover {\n",
       "  /* unfitted */\n",
       "  background-color: var(--sklearn-color-unfitted-level-3);\n",
       "  color: var(--sklearn-color-background);\n",
       "  text-decoration: none;\n",
       "}\n",
       "\n",
       "div.sk-estimator.fitted:hover .sk-estimator-doc-link.fitted:hover,\n",
       ".sk-estimator-doc-link.fitted:hover,\n",
       "div.sk-label-container:hover .sk-estimator-doc-link.fitted:hover,\n",
       ".sk-estimator-doc-link.fitted:hover {\n",
       "  /* fitted */\n",
       "  background-color: var(--sklearn-color-fitted-level-3);\n",
       "  color: var(--sklearn-color-background);\n",
       "  text-decoration: none;\n",
       "}\n",
       "\n",
       "/* Span, style for the box shown on hovering the info icon */\n",
       ".sk-estimator-doc-link span {\n",
       "  display: none;\n",
       "  z-index: 9999;\n",
       "  position: relative;\n",
       "  font-weight: normal;\n",
       "  right: .2ex;\n",
       "  padding: .5ex;\n",
       "  margin: .5ex;\n",
       "  width: min-content;\n",
       "  min-width: 20ex;\n",
       "  max-width: 50ex;\n",
       "  color: var(--sklearn-color-text);\n",
       "  box-shadow: 2pt 2pt 4pt #999;\n",
       "  /* unfitted */\n",
       "  background: var(--sklearn-color-unfitted-level-0);\n",
       "  border: .5pt solid var(--sklearn-color-unfitted-level-3);\n",
       "}\n",
       "\n",
       ".sk-estimator-doc-link.fitted span {\n",
       "  /* fitted */\n",
       "  background: var(--sklearn-color-fitted-level-0);\n",
       "  border: var(--sklearn-color-fitted-level-3);\n",
       "}\n",
       "\n",
       ".sk-estimator-doc-link:hover span {\n",
       "  display: block;\n",
       "}\n",
       "\n",
       "/* \"?\"-specific style due to the `<a>` HTML tag */\n",
       "\n",
       "#sk-container-id-1 a.estimator_doc_link {\n",
       "  float: right;\n",
       "  font-size: 1rem;\n",
       "  line-height: 1em;\n",
       "  font-family: monospace;\n",
       "  background-color: var(--sklearn-color-background);\n",
       "  border-radius: 1rem;\n",
       "  height: 1rem;\n",
       "  width: 1rem;\n",
       "  text-decoration: none;\n",
       "  /* unfitted */\n",
       "  color: var(--sklearn-color-unfitted-level-1);\n",
       "  border: var(--sklearn-color-unfitted-level-1) 1pt solid;\n",
       "}\n",
       "\n",
       "#sk-container-id-1 a.estimator_doc_link.fitted {\n",
       "  /* fitted */\n",
       "  border: var(--sklearn-color-fitted-level-1) 1pt solid;\n",
       "  color: var(--sklearn-color-fitted-level-1);\n",
       "}\n",
       "\n",
       "/* On hover */\n",
       "#sk-container-id-1 a.estimator_doc_link:hover {\n",
       "  /* unfitted */\n",
       "  background-color: var(--sklearn-color-unfitted-level-3);\n",
       "  color: var(--sklearn-color-background);\n",
       "  text-decoration: none;\n",
       "}\n",
       "\n",
       "#sk-container-id-1 a.estimator_doc_link.fitted:hover {\n",
       "  /* fitted */\n",
       "  background-color: var(--sklearn-color-fitted-level-3);\n",
       "}\n",
       "</style><div id=\"sk-container-id-1\" class=\"sk-top-container\"><div class=\"sk-text-repr-fallback\"><pre>Pipeline(steps=[(&#x27;columntransformer&#x27;,\n",
       "                 ColumnTransformer(transformers=[(&#x27;substringstransformer-1&#x27;,\n",
       "                                                  SubstringsTransformer(substrings=[&#x27;private&#x27;,\n",
       "                                                                                    &#x27;cozy&#x27;,\n",
       "                                                                                    &#x27;downtown&#x27;,\n",
       "                                                                                    &#x27;parking&#x27;,\n",
       "                                                                                    &#x27;retreat&#x27;,\n",
       "                                                                                    &#x27;view&#x27;,\n",
       "                                                                                    &#x27;spacious&#x27;,\n",
       "                                                                                    &#x27;views&#x27;,\n",
       "                                                                                    &#x27;charming&#x27;,\n",
       "                                                                                    &#x27;luxury&#x27;,\n",
       "                                                                                    &#x27;beautiful&#x27;,\n",
       "                                                                                    &#x27;new&#x27;,\n",
       "                                                                                    &#x27;quiet&#x27;,\n",
       "                                                                                    &#x27;clean&#x27;,\n",
       "                                                                                    &#x27;bright&#x27;]),\n",
       "                                                  &#x27;name&#x27;),\n",
       "                                                 (&#x27;substringstransformer-2&#x27;,\n",
       "                                                  SubstringsTransformer(substrings=[&#x27;private&#x27;,\n",
       "                                                                                    &#x27;h...\n",
       "       &#x27;availability_90&#x27;, &#x27;availability_365&#x27;, &#x27;number_of_reviews&#x27;,\n",
       "       &#x27;number_of_reviews_ltm&#x27;, &#x27;number_of_reviews_l30d&#x27;,\n",
       "       &#x27;calculated_host_listings_count&#x27;,\n",
       "       &#x27;calculated_host_listings_count_entire_homes&#x27;,\n",
       "       &#x27;calculated_host_listings_count_private_rooms&#x27;,\n",
       "       &#x27;calculated_host_listings_count_shared_rooms&#x27;, &#x27;reviews_per_month&#x27;],\n",
       "      dtype=&#x27;object&#x27;))])),\n",
       "                (&#x27;simpleimputer&#x27;, SimpleImputer()),\n",
       "                (&#x27;linearregression&#x27;, LinearRegression())])</pre><b>In a Jupyter environment, please rerun this cell to show the HTML representation or trust the notebook. <br />On GitHub, the HTML representation is unable to render, please try loading this page with nbviewer.org.</b></div><div class=\"sk-container\" hidden><div class=\"sk-item sk-dashed-wrapped\"><div class=\"sk-label-container\"><div class=\"sk-label fitted sk-toggleable\"><input class=\"sk-toggleable__control sk-hidden--visually\" id=\"sk-estimator-id-1\" type=\"checkbox\" ><label for=\"sk-estimator-id-1\" class=\"sk-toggleable__label fitted sk-toggleable__label-arrow fitted\">&nbsp;&nbsp;Pipeline<a class=\"sk-estimator-doc-link fitted\" rel=\"noreferrer\" target=\"_blank\" href=\"https://scikit-learn.org/1.5/modules/generated/sklearn.pipeline.Pipeline.html\">?<span>Documentation for Pipeline</span></a><span class=\"sk-estimator-doc-link fitted\">i<span>Fitted</span></span></label><div class=\"sk-toggleable__content fitted\"><pre>Pipeline(steps=[(&#x27;columntransformer&#x27;,\n",
       "                 ColumnTransformer(transformers=[(&#x27;substringstransformer-1&#x27;,\n",
       "                                                  SubstringsTransformer(substrings=[&#x27;private&#x27;,\n",
       "                                                                                    &#x27;cozy&#x27;,\n",
       "                                                                                    &#x27;downtown&#x27;,\n",
       "                                                                                    &#x27;parking&#x27;,\n",
       "                                                                                    &#x27;retreat&#x27;,\n",
       "                                                                                    &#x27;view&#x27;,\n",
       "                                                                                    &#x27;spacious&#x27;,\n",
       "                                                                                    &#x27;views&#x27;,\n",
       "                                                                                    &#x27;charming&#x27;,\n",
       "                                                                                    &#x27;luxury&#x27;,\n",
       "                                                                                    &#x27;beautiful&#x27;,\n",
       "                                                                                    &#x27;new&#x27;,\n",
       "                                                                                    &#x27;quiet&#x27;,\n",
       "                                                                                    &#x27;clean&#x27;,\n",
       "                                                                                    &#x27;bright&#x27;]),\n",
       "                                                  &#x27;name&#x27;),\n",
       "                                                 (&#x27;substringstransformer-2&#x27;,\n",
       "                                                  SubstringsTransformer(substrings=[&#x27;private&#x27;,\n",
       "                                                                                    &#x27;h...\n",
       "       &#x27;availability_90&#x27;, &#x27;availability_365&#x27;, &#x27;number_of_reviews&#x27;,\n",
       "       &#x27;number_of_reviews_ltm&#x27;, &#x27;number_of_reviews_l30d&#x27;,\n",
       "       &#x27;calculated_host_listings_count&#x27;,\n",
       "       &#x27;calculated_host_listings_count_entire_homes&#x27;,\n",
       "       &#x27;calculated_host_listings_count_private_rooms&#x27;,\n",
       "       &#x27;calculated_host_listings_count_shared_rooms&#x27;, &#x27;reviews_per_month&#x27;],\n",
       "      dtype=&#x27;object&#x27;))])),\n",
       "                (&#x27;simpleimputer&#x27;, SimpleImputer()),\n",
       "                (&#x27;linearregression&#x27;, LinearRegression())])</pre></div> </div></div><div class=\"sk-serial\"><div class=\"sk-item sk-dashed-wrapped\"><div class=\"sk-label-container\"><div class=\"sk-label fitted sk-toggleable\"><input class=\"sk-toggleable__control sk-hidden--visually\" id=\"sk-estimator-id-2\" type=\"checkbox\" ><label for=\"sk-estimator-id-2\" class=\"sk-toggleable__label fitted sk-toggleable__label-arrow fitted\">&nbsp;columntransformer: ColumnTransformer<a class=\"sk-estimator-doc-link fitted\" rel=\"noreferrer\" target=\"_blank\" href=\"https://scikit-learn.org/1.5/modules/generated/sklearn.compose.ColumnTransformer.html\">?<span>Documentation for columntransformer: ColumnTransformer</span></a></label><div class=\"sk-toggleable__content fitted\"><pre>ColumnTransformer(transformers=[(&#x27;substringstransformer-1&#x27;,\n",
       "                                 SubstringsTransformer(substrings=[&#x27;private&#x27;,\n",
       "                                                                   &#x27;cozy&#x27;,\n",
       "                                                                   &#x27;downtown&#x27;,\n",
       "                                                                   &#x27;parking&#x27;,\n",
       "                                                                   &#x27;retreat&#x27;,\n",
       "                                                                   &#x27;view&#x27;,\n",
       "                                                                   &#x27;spacious&#x27;,\n",
       "                                                                   &#x27;views&#x27;,\n",
       "                                                                   &#x27;charming&#x27;,\n",
       "                                                                   &#x27;luxury&#x27;,\n",
       "                                                                   &#x27;beautiful&#x27;,\n",
       "                                                                   &#x27;new&#x27;,\n",
       "                                                                   &#x27;quiet&#x27;,\n",
       "                                                                   &#x27;clean&#x27;,\n",
       "                                                                   &#x27;bright&#x27;]),\n",
       "                                 &#x27;name&#x27;),\n",
       "                                (&#x27;substringstransformer-2&#x27;,\n",
       "                                 SubstringsTransformer(substrings=[&#x27;private&#x27;,\n",
       "                                                                   &#x27;home&#x27;,\n",
       "                                                                   &#x27;downtown&#x27;,\n",
       "                                                                   &#x27;restaurants&#x27;,\n",
       "                                                                   &#x27;house&#x27;...\n",
       "       &#x27;maximum_nights_avg_ntm&#x27;, &#x27;availability_30&#x27;, &#x27;availability_60&#x27;,\n",
       "       &#x27;availability_90&#x27;, &#x27;availability_365&#x27;, &#x27;number_of_reviews&#x27;,\n",
       "       &#x27;number_of_reviews_ltm&#x27;, &#x27;number_of_reviews_l30d&#x27;,\n",
       "       &#x27;calculated_host_listings_count&#x27;,\n",
       "       &#x27;calculated_host_listings_count_entire_homes&#x27;,\n",
       "       &#x27;calculated_host_listings_count_private_rooms&#x27;,\n",
       "       &#x27;calculated_host_listings_count_shared_rooms&#x27;, &#x27;reviews_per_month&#x27;],\n",
       "      dtype=&#x27;object&#x27;))])</pre></div> </div></div><div class=\"sk-parallel\"><div class=\"sk-parallel-item\"><div class=\"sk-item\"><div class=\"sk-label-container\"><div class=\"sk-label fitted sk-toggleable\"><input class=\"sk-toggleable__control sk-hidden--visually\" id=\"sk-estimator-id-3\" type=\"checkbox\" ><label for=\"sk-estimator-id-3\" class=\"sk-toggleable__label fitted sk-toggleable__label-arrow fitted\">substringstransformer-1</label><div class=\"sk-toggleable__content fitted\"><pre>name</pre></div> </div></div><div class=\"sk-serial\"><div class=\"sk-item\"><div class=\"sk-estimator fitted sk-toggleable\"><input class=\"sk-toggleable__control sk-hidden--visually\" id=\"sk-estimator-id-4\" type=\"checkbox\" ><label for=\"sk-estimator-id-4\" class=\"sk-toggleable__label fitted sk-toggleable__label-arrow fitted\">SubstringsTransformer</label><div class=\"sk-toggleable__content fitted\"><pre>SubstringsTransformer(substrings=[&#x27;private&#x27;, &#x27;cozy&#x27;, &#x27;downtown&#x27;, &#x27;parking&#x27;,\n",
       "                                  &#x27;retreat&#x27;, &#x27;view&#x27;, &#x27;spacious&#x27;, &#x27;views&#x27;,\n",
       "                                  &#x27;charming&#x27;, &#x27;luxury&#x27;, &#x27;beautiful&#x27;, &#x27;new&#x27;,\n",
       "                                  &#x27;quiet&#x27;, &#x27;clean&#x27;, &#x27;bright&#x27;])</pre></div> </div></div></div></div></div><div class=\"sk-parallel-item\"><div class=\"sk-item\"><div class=\"sk-label-container\"><div class=\"sk-label fitted sk-toggleable\"><input class=\"sk-toggleable__control sk-hidden--visually\" id=\"sk-estimator-id-5\" type=\"checkbox\" ><label for=\"sk-estimator-id-5\" class=\"sk-toggleable__label fitted sk-toggleable__label-arrow fitted\">substringstransformer-2</label><div class=\"sk-toggleable__content fitted\"><pre>description</pre></div> </div></div><div class=\"sk-serial\"><div class=\"sk-item\"><div class=\"sk-estimator fitted sk-toggleable\"><input class=\"sk-toggleable__control sk-hidden--visually\" id=\"sk-estimator-id-6\" type=\"checkbox\" ><label for=\"sk-estimator-id-6\" class=\"sk-toggleable__label fitted sk-toggleable__label-arrow fitted\">SubstringsTransformer</label><div class=\"sk-toggleable__content fitted\"><pre>SubstringsTransformer(substrings=[&#x27;private&#x27;, &#x27;home&#x27;, &#x27;downtown&#x27;, &#x27;restaurants&#x27;,\n",
       "                                  &#x27;house&#x27;, &#x27;kitchen&#x27;, &#x27;beach&#x27;, &#x27;neighborhood&#x27;,\n",
       "                                  &#x27;parking&#x27;, &#x27;apartment&#x27;, &#x27;modern&#x27;, &#x27;walking&#x27;,\n",
       "                                  &#x27;shops&#x27;, &#x27;distance&#x27;, &#x27;city&#x27;, &#x27;close&#x27;, &#x27;tv&#x27;,\n",
       "                                  &#x27;cozy&#x27;, &#x27;studio&#x27;, &#x27;spacious&#x27;, &#x27;comfortable&#x27;,\n",
       "                                  &#x27;views&#x27;, &#x27;bars&#x27;, &#x27;renovated&#x27;, &#x27;airport&#x27;,\n",
       "                                  &#x27;wifi&#x27;, &#x27;garden&#x27;, &#x27;dining&#x27;, &#x27;pool&#x27;,\n",
       "                                  &#x27;shopping&#x27;])</pre></div> </div></div></div></div></div><div class=\"sk-parallel-item\"><div class=\"sk-item\"><div class=\"sk-label-container\"><div class=\"sk-label fitted sk-toggleable\"><input class=\"sk-toggleable__control sk-hidden--visually\" id=\"sk-estimator-id-7\" type=\"checkbox\" ><label for=\"sk-estimator-id-7\" class=\"sk-toggleable__label fitted sk-toggleable__label-arrow fitted\">weektransformer</label><div class=\"sk-toggleable__content fitted\"><pre>host_since</pre></div> </div></div><div class=\"sk-serial\"><div class=\"sk-item\"><div class=\"sk-estimator fitted sk-toggleable\"><input class=\"sk-toggleable__control sk-hidden--visually\" id=\"sk-estimator-id-8\" type=\"checkbox\" ><label for=\"sk-estimator-id-8\" class=\"sk-toggleable__label fitted sk-toggleable__label-arrow fitted\">WeekTransformer</label><div class=\"sk-toggleable__content fitted\"><pre>WeekTransformer()</pre></div> </div></div></div></div></div><div class=\"sk-parallel-item\"><div class=\"sk-item\"><div class=\"sk-label-container\"><div class=\"sk-label fitted sk-toggleable\"><input class=\"sk-toggleable__control sk-hidden--visually\" id=\"sk-estimator-id-9\" type=\"checkbox\" ><label for=\"sk-estimator-id-9\" class=\"sk-toggleable__label fitted sk-toggleable__label-arrow fitted\">lengthtransformer-1</label><div class=\"sk-toggleable__content fitted\"><pre>host_verifications</pre></div> </div></div><div class=\"sk-serial\"><div class=\"sk-item\"><div class=\"sk-estimator fitted sk-toggleable\"><input class=\"sk-toggleable__control sk-hidden--visually\" id=\"sk-estimator-id-10\" type=\"checkbox\" ><label for=\"sk-estimator-id-10\" class=\"sk-toggleable__label fitted sk-toggleable__label-arrow fitted\">LengthTransformer</label><div class=\"sk-toggleable__content fitted\"><pre>LengthTransformer()</pre></div> </div></div></div></div></div><div class=\"sk-parallel-item\"><div class=\"sk-item\"><div class=\"sk-label-container\"><div class=\"sk-label fitted sk-toggleable\"><input class=\"sk-toggleable__control sk-hidden--visually\" id=\"sk-estimator-id-11\" type=\"checkbox\" ><label for=\"sk-estimator-id-11\" class=\"sk-toggleable__label fitted sk-toggleable__label-arrow fitted\">onehotencoder-1</label><div class=\"sk-toggleable__content fitted\"><pre>[&#x27;property_type&#x27;]</pre></div> </div></div><div class=\"sk-serial\"><div class=\"sk-item\"><div class=\"sk-estimator fitted sk-toggleable\"><input class=\"sk-toggleable__control sk-hidden--visually\" id=\"sk-estimator-id-12\" type=\"checkbox\" ><label for=\"sk-estimator-id-12\" class=\"sk-toggleable__label fitted sk-toggleable__label-arrow fitted\">&nbsp;OneHotEncoder<a class=\"sk-estimator-doc-link fitted\" rel=\"noreferrer\" target=\"_blank\" href=\"https://scikit-learn.org/1.5/modules/generated/sklearn.preprocessing.OneHotEncoder.html\">?<span>Documentation for OneHotEncoder</span></a></label><div class=\"sk-toggleable__content fitted\"><pre>OneHotEncoder(handle_unknown=&#x27;ignore&#x27;)</pre></div> </div></div></div></div></div><div class=\"sk-parallel-item\"><div class=\"sk-item\"><div class=\"sk-label-container\"><div class=\"sk-label fitted sk-toggleable\"><input class=\"sk-toggleable__control sk-hidden--visually\" id=\"sk-estimator-id-13\" type=\"checkbox\" ><label for=\"sk-estimator-id-13\" class=\"sk-toggleable__label fitted sk-toggleable__label-arrow fitted\">onehotencoder-2</label><div class=\"sk-toggleable__content fitted\"><pre>[&#x27;room_type&#x27;]</pre></div> </div></div><div class=\"sk-serial\"><div class=\"sk-item\"><div class=\"sk-estimator fitted sk-toggleable\"><input class=\"sk-toggleable__control sk-hidden--visually\" id=\"sk-estimator-id-14\" type=\"checkbox\" ><label for=\"sk-estimator-id-14\" class=\"sk-toggleable__label fitted sk-toggleable__label-arrow fitted\">&nbsp;OneHotEncoder<a class=\"sk-estimator-doc-link fitted\" rel=\"noreferrer\" target=\"_blank\" href=\"https://scikit-learn.org/1.5/modules/generated/sklearn.preprocessing.OneHotEncoder.html\">?<span>Documentation for OneHotEncoder</span></a></label><div class=\"sk-toggleable__content fitted\"><pre>OneHotEncoder(handle_unknown=&#x27;ignore&#x27;)</pre></div> </div></div></div></div></div><div class=\"sk-parallel-item\"><div class=\"sk-item\"><div class=\"sk-label-container\"><div class=\"sk-label fitted sk-toggleable\"><input class=\"sk-toggleable__control sk-hidden--visually\" id=\"sk-estimator-id-15\" type=\"checkbox\" ><label for=\"sk-estimator-id-15\" class=\"sk-toggleable__label fitted sk-toggleable__label-arrow fitted\">lengthtransformer-2</label><div class=\"sk-toggleable__content fitted\"><pre>amenities</pre></div> </div></div><div class=\"sk-serial\"><div class=\"sk-item\"><div class=\"sk-estimator fitted sk-toggleable\"><input class=\"sk-toggleable__control sk-hidden--visually\" id=\"sk-estimator-id-16\" type=\"checkbox\" ><label for=\"sk-estimator-id-16\" class=\"sk-toggleable__label fitted sk-toggleable__label-arrow fitted\">LengthTransformer</label><div class=\"sk-toggleable__content fitted\"><pre>LengthTransformer()</pre></div> </div></div></div></div></div><div class=\"sk-parallel-item\"><div class=\"sk-item\"><div class=\"sk-label-container\"><div class=\"sk-label fitted sk-toggleable\"><input class=\"sk-toggleable__control sk-hidden--visually\" id=\"sk-estimator-id-17\" type=\"checkbox\" ><label for=\"sk-estimator-id-17\" class=\"sk-toggleable__label fitted sk-toggleable__label-arrow fitted\">standardscaler</label><div class=\"sk-toggleable__content fitted\"><pre>Index([&#x27;host_response_rate&#x27;, &#x27;host_acceptance_rate&#x27;, &#x27;latitude&#x27;, &#x27;longitude&#x27;,\n",
       "       &#x27;accommodates&#x27;, &#x27;bathrooms&#x27;, &#x27;bedrooms&#x27;, &#x27;beds&#x27;, &#x27;price&#x27;,\n",
       "       &#x27;minimum_nights&#x27;, &#x27;maximum_nights&#x27;, &#x27;minimum_nights_avg_ntm&#x27;,\n",
       "       &#x27;maximum_nights_avg_ntm&#x27;, &#x27;availability_30&#x27;, &#x27;availability_60&#x27;,\n",
       "       &#x27;availability_90&#x27;, &#x27;availability_365&#x27;, &#x27;number_of_reviews&#x27;,\n",
       "       &#x27;number_of_reviews_ltm&#x27;, &#x27;number_of_reviews_l30d&#x27;,\n",
       "       &#x27;calculated_host_listings_count&#x27;,\n",
       "       &#x27;calculated_host_listings_count_entire_homes&#x27;,\n",
       "       &#x27;calculated_host_listings_count_private_rooms&#x27;,\n",
       "       &#x27;calculated_host_listings_count_shared_rooms&#x27;, &#x27;reviews_per_month&#x27;],\n",
       "      dtype=&#x27;object&#x27;)</pre></div> </div></div><div class=\"sk-serial\"><div class=\"sk-item\"><div class=\"sk-estimator fitted sk-toggleable\"><input class=\"sk-toggleable__control sk-hidden--visually\" id=\"sk-estimator-id-18\" type=\"checkbox\" ><label for=\"sk-estimator-id-18\" class=\"sk-toggleable__label fitted sk-toggleable__label-arrow fitted\">&nbsp;StandardScaler<a class=\"sk-estimator-doc-link fitted\" rel=\"noreferrer\" target=\"_blank\" href=\"https://scikit-learn.org/1.5/modules/generated/sklearn.preprocessing.StandardScaler.html\">?<span>Documentation for StandardScaler</span></a></label><div class=\"sk-toggleable__content fitted\"><pre>StandardScaler()</pre></div> </div></div></div></div></div></div></div><div class=\"sk-item\"><div class=\"sk-estimator fitted sk-toggleable\"><input class=\"sk-toggleable__control sk-hidden--visually\" id=\"sk-estimator-id-19\" type=\"checkbox\" ><label for=\"sk-estimator-id-19\" class=\"sk-toggleable__label fitted sk-toggleable__label-arrow fitted\">&nbsp;SimpleImputer<a class=\"sk-estimator-doc-link fitted\" rel=\"noreferrer\" target=\"_blank\" href=\"https://scikit-learn.org/1.5/modules/generated/sklearn.impute.SimpleImputer.html\">?<span>Documentation for SimpleImputer</span></a></label><div class=\"sk-toggleable__content fitted\"><pre>SimpleImputer()</pre></div> </div></div><div class=\"sk-item\"><div class=\"sk-estimator fitted sk-toggleable\"><input class=\"sk-toggleable__control sk-hidden--visually\" id=\"sk-estimator-id-20\" type=\"checkbox\" ><label for=\"sk-estimator-id-20\" class=\"sk-toggleable__label fitted sk-toggleable__label-arrow fitted\">&nbsp;LinearRegression<a class=\"sk-estimator-doc-link fitted\" rel=\"noreferrer\" target=\"_blank\" href=\"https://scikit-learn.org/1.5/modules/generated/sklearn.linear_model.LinearRegression.html\">?<span>Documentation for LinearRegression</span></a></label><div class=\"sk-toggleable__content fitted\"><pre>LinearRegression()</pre></div> </div></div></div></div></div></div>"
      ],
      "text/plain": [
       "Pipeline(steps=[('columntransformer',\n",
       "                 ColumnTransformer(transformers=[('substringstransformer-1',\n",
       "                                                  SubstringsTransformer(substrings=['private',\n",
       "                                                                                    'cozy',\n",
       "                                                                                    'downtown',\n",
       "                                                                                    'parking',\n",
       "                                                                                    'retreat',\n",
       "                                                                                    'view',\n",
       "                                                                                    'spacious',\n",
       "                                                                                    'views',\n",
       "                                                                                    'charming',\n",
       "                                                                                    'luxury',\n",
       "                                                                                    'beautiful',\n",
       "                                                                                    'new',\n",
       "                                                                                    'quiet',\n",
       "                                                                                    'clean',\n",
       "                                                                                    'bright']),\n",
       "                                                  'name'),\n",
       "                                                 ('substringstransformer-2',\n",
       "                                                  SubstringsTransformer(substrings=['private',\n",
       "                                                                                    'h...\n",
       "       'availability_90', 'availability_365', 'number_of_reviews',\n",
       "       'number_of_reviews_ltm', 'number_of_reviews_l30d',\n",
       "       'calculated_host_listings_count',\n",
       "       'calculated_host_listings_count_entire_homes',\n",
       "       'calculated_host_listings_count_private_rooms',\n",
       "       'calculated_host_listings_count_shared_rooms', 'reviews_per_month'],\n",
       "      dtype='object'))])),\n",
       "                ('simpleimputer', SimpleImputer()),\n",
       "                ('linearregression', LinearRegression())])"
      ]
     },
     "execution_count": 44,
     "metadata": {},
     "output_type": "execute_result"
    }
   ],
   "source": [
    "model.fit(df.drop(columns=review_cols),df['review_scores_rating'])"
   ]
  },
  {
   "cell_type": "markdown",
   "metadata": {},
   "source": [
    "In the previous section, we found that our model has a very low `r2_score`. This means that none of our input features are particularly correlated with the review score. To better drive this point, we explore what the average coefficient is in our linear model.\n",
    "\n",
    "Since the vairables are all normalized, we should expect these coefficients to almost directly correlate to the review score. For example, a coefficient of 0.01 means for each unit of that column, we would increase the review score by 0.01."
   ]
  },
  {
   "cell_type": "code",
   "execution_count": 59,
   "metadata": {},
   "outputs": [
    {
     "data": {
      "text/plain": [
       "count    159.000000\n",
       "mean       0.021966\n",
       "std        0.028256\n",
       "min        0.000027\n",
       "25%        0.004170\n",
       "50%        0.009904\n",
       "75%        0.030899\n",
       "max        0.153812\n",
       "dtype: float64"
      ]
     },
     "execution_count": 59,
     "metadata": {},
     "output_type": "execute_result"
    }
   ],
   "source": [
    "pd.Series(np.abs(model.named_steps['linearregression'].coef_)).describe()"
   ]
  },
  {
   "cell_type": "markdown",
   "metadata": {},
   "source": [
    "We take the absolute value since the direction doesn't matter to us, only the magnitude. We notice the average value is 0.021, meaning our columns do have an impact on the review score to the 0.01 order of magnitude."
   ]
  },
  {
   "cell_type": "markdown",
   "metadata": {},
   "source": [
    "### Model Improvements\n",
    "\n",
    "Our results are not ideal, we have a relatively high MSE and MAE, and our r^2 score isn't where we would like it to be. This is unfortunate as we were hoping for better results, however, the good part of this is that firstly, we can be pretty confident that we are not overfitting the data and secondly, we have a lot of room for improvement both for our models, and for our machine learning skills as we this will allow us to further develop/apply the things that we are learning in this class to improve our model.\n",
    "\n",
    "Here are some ways in which we may be able to improve our model:\n",
    "- Increasing the number of features\n",
    "- Better feature engineering\n",
    "- Trying different complexity models such as polynomial regression or neural networks\n",
    "- We could try using coalesced features."
   ]
  },
  {
   "cell_type": "markdown",
   "metadata": {},
   "source": [
    "### Conclusion and Next Model\n",
    "\n",
    "Since our mean squared error of our first model being linear regression is not exactly ideal, we decided that the next potential model we can train and test would be a **neural network**. Since the fit of the linear regression line is producing a unoptimal mean squared error, we believe that a simple linear best fitting line is simply not good enough to fit our supposedly complex data. By using a neural network and messing around with the amount of neurons per hidden layer, the amount of hidden layers, and the many activation functions, we add more depth and complexity in hopes of finding the best fit that captures the relationship between our features while in turn producing a fairly accurate prediction.   "
   ]
  },
  {
   "cell_type": "markdown",
   "metadata": {},
   "source": []
  }
 ],
 "metadata": {
  "kernelspec": {
   "display_name": "base",
   "language": "python",
   "name": "python3"
  },
  "language_info": {
   "codemirror_mode": {
    "name": "ipython",
    "version": 3
   },
   "file_extension": ".py",
   "mimetype": "text/x-python",
   "name": "python",
   "nbconvert_exporter": "python",
   "pygments_lexer": "ipython3",
   "version": "3.12.3"
  }
 },
 "nbformat": 4,
 "nbformat_minor": 2
}
